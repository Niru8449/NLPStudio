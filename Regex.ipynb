{
 "cells": [
  {
   "cell_type": "code",
   "execution_count": 1,
   "id": "21cdec5a",
   "metadata": {},
   "outputs": [],
   "source": [
    "import re"
   ]
  },
  {
   "cell_type": "code",
   "execution_count": 2,
   "id": "db6bda0f",
   "metadata": {},
   "outputs": [],
   "source": [
    "# regex101.com "
   ]
  },
  {
   "cell_type": "code",
   "execution_count": 3,
   "id": "3976a3f5",
   "metadata": {},
   "outputs": [],
   "source": [
    "text = '''\n",
    "Note 1 - Summary of Significant Accounting Policies\n",
    "Unaudited Interim Financial Statements\n",
    "The consolidated financial statements of Tesla, Inc. (“Tesla”, the “Company”, “we”, “us” or “our”), including the consolidated balance sheet as of\n",
    "June 30, 2023, the consolidated statements of operations, the consolidated statements of comprehensive income, the consolidated statements of\n",
    "redeemable noncontrolling interests and equity for the three and six months ended June 30, 2023 and 2022, and the consolidated statements of cash\n",
    "flows for the six months ended June 30, 2023 and 2022, as well as other information disclosed in the accompanying notes, are unaudited. The\n",
    "consolidated balance sheet as of December 31, 2022 was derived from the audited consolidated financial statements as of that date. The interim\n",
    "consolidated financial statements and the accompanying notes should be read in conjunction with the annual consolidated financial statements and the\n",
    "accompanying notes contained in our Annual Report on Form 10-K for the year ended December 31, 2022.\n",
    "The interim consolidated financial statements and the accompanying notes have been prepared on the same basis as the annual consolidated\n",
    "financial statements and, in the opinion of management, reflect all adjustments, which include only normal recurring adjustments, necessary for a fair\n",
    "statement of the results of operations for the periods presented. The consolidated results of operations for any interim period are not necessarily\n",
    "indicative of the results to be expected for the full year or for any other future years or interim periods.\n",
    "Note 2 - Fair Value of Financial Instruments\n",
    "ASC 820, Fair Value Measurements (“ASC 820”) states that fair value is an exit price, representing the amount that would be received to sell an\n",
    "asset or paid to transfer a liability in an orderly transaction between market participants. As such, fair value is a market-based measurement that should\n",
    "be determined based on assumptions that market participants would use in pricing an asset or a liability. The three-tiered fair value hierarchy, which\n",
    "prioritizes which inputs should be used in measuring fair value, is comprised of: (Level I) observable inputs such as quoted prices in active markets;\n",
    "(Level II) inputs other than quoted prices in active markets that are observable either directly or indirectly and (Level III) unobservable inputs for which\n",
    "there is little or no market data. The fair value hierarchy requires the use of observable market data when available in determining fair value. Our\n",
    "assets and liabilities that were measured at fair value on a recurring basis were as follows (in millions):\n",
    "'''\n",
    "\n",
    "# pattern = '\\(\\d{3}\\)-\\d{3}-\\d{4}|\\d{10}'\n",
    "pattern = 'Note \\d - ([^\\n]*)'\n",
    "matches = re.findall(pattern, text)"
   ]
  },
  {
   "cell_type": "code",
   "execution_count": 4,
   "id": "7c0aeaac",
   "metadata": {},
   "outputs": [
    {
     "data": {
      "text/plain": [
       "['Summary of Significant Accounting Policies',\n",
       " 'Fair Value of Financial Instruments']"
      ]
     },
     "execution_count": 4,
     "metadata": {},
     "output_type": "execute_result"
    }
   ],
   "source": [
    "matches"
   ]
  },
  {
   "cell_type": "code",
   "execution_count": 5,
   "id": "65bee45b",
   "metadata": {},
   "outputs": [],
   "source": [
    "text = '''\n",
    "Note 1 - Summary of Significant Accounting Policies\n",
    "Unaudited Interim Financial Statements\n",
    "The consolidated financial statements of Tesla, Inc. (“Tesla”, the “Company”, “we”, “us” or “our”), including the consolidated balance sheet as of\n",
    "June 30, 2023, the consolidated statements of operations, the consolidated statements of comprehensive income, the consolidated statements of redeemable nonc FY2021 Q1 was $5.34 billion the are you fine the why  this and that FY2021 Q4 why this you doing tell me\n",
    " fy2022 Q3 was $4.34 billion'''\n",
    "\n",
    "pattern = 'FY(\\d{4} Q[1-4])'\n",
    "matches = re.findall(pattern, text, flags = re.IGNORECASE)"
   ]
  },
  {
   "cell_type": "code",
   "execution_count": 6,
   "id": "9d1d4cf4",
   "metadata": {},
   "outputs": [
    {
     "data": {
      "text/plain": [
       "['2021 Q1', '2021 Q4', '2022 Q3']"
      ]
     },
     "execution_count": 6,
     "metadata": {},
     "output_type": "execute_result"
    }
   ],
   "source": [
    "matches"
   ]
  },
  {
   "cell_type": "code",
   "execution_count": 7,
   "id": "3b744656",
   "metadata": {},
   "outputs": [],
   "source": [
    "pattern = '\\$[\\d\\.]+'\n",
    "matches = re.findall(pattern, text)"
   ]
  },
  {
   "cell_type": "code",
   "execution_count": 8,
   "id": "8ffc78bd",
   "metadata": {},
   "outputs": [
    {
     "data": {
      "text/plain": [
       "['$5.34', '$4.34']"
      ]
     },
     "execution_count": 8,
     "metadata": {},
     "output_type": "execute_result"
    }
   ],
   "source": [
    "matches"
   ]
  },
  {
   "cell_type": "code",
   "execution_count": 9,
   "id": "adf417f0",
   "metadata": {},
   "outputs": [],
   "source": [
    "pattern = 'FY(\\d{4} Q[1-4])[^\\$]+(\\$[\\d\\.]+)'\n",
    "matches = re.findall(pattern, text)"
   ]
  },
  {
   "cell_type": "code",
   "execution_count": 10,
   "id": "8527e176",
   "metadata": {},
   "outputs": [
    {
     "data": {
      "text/plain": [
       "[('2021 Q1', '$5.34'), ('2021 Q4', '$4.34')]"
      ]
     },
     "execution_count": 10,
     "metadata": {},
     "output_type": "execute_result"
    }
   ],
   "source": [
    "matches"
   ]
  },
  {
   "cell_type": "code",
   "execution_count": 11,
   "id": "0b58b288",
   "metadata": {},
   "outputs": [
    {
     "data": {
      "text/plain": [
       "['abc@xyz.com', 'ilsufdjbnuibfv@sdf.cesf']"
      ]
     },
     "execution_count": 11,
     "metadata": {},
     "output_type": "execute_result"
    }
   ],
   "source": [
    "chat = 'cskljdvhiushfv skjdvhkjsvh skjfvhkjsfh abc@xyz.com sjfbukhbf skdjnkshubv ilsufdjbnuibfv@sdf.cesf'\n",
    "pattern = '\\w+\\@\\w+\\.\\w+'\n",
    "\n",
    "matches = re.findall(pattern, chat)\n",
    "matches"
   ]
  },
  {
   "cell_type": "code",
   "execution_count": 12,
   "id": "cc579075",
   "metadata": {},
   "outputs": [
    {
     "data": {
      "text/plain": [
       "['123456789', '124578932', '165321468']"
      ]
     },
     "execution_count": 12,
     "metadata": {},
     "output_type": "execute_result"
    }
   ],
   "source": [
    "chat2 = '''\n",
    "I am having issue with my order #123456789. \n",
    "My order 124578932 is faulty. I want to return the order whose order number is 165321468\n",
    "'''\n",
    "# pattern = 'order[^1-9]*([1-9]*)'\n",
    "pattern = 'order[^\\d]*([1-9]*)'\n",
    "\n",
    "matches = re.findall(pattern, chat2)\n",
    "matches"
   ]
  },
  {
   "cell_type": "code",
   "execution_count": 13,
   "id": "37e6be1c",
   "metadata": {},
   "outputs": [],
   "source": [
    "text = '''\n",
    "Born\tElon Reeve Musk\n",
    "June 28, 1971 (age 52)\n",
    "Pretoria, Transvaal, South Africa\n",
    "Education\tUniversity of Pennsylvania (BA, BS)\n",
    "Title\t\n",
    "Founder, CEO, and chief engineer of SpaceX\n",
    "CEO and product architect of Tesla, Inc.\n",
    "Owner and CTO of Twitter\n",
    "President of the Musk Foundation\n",
    "Founder of the Boring Company, X Corp., and xAI\n",
    "Co-founder of Neuralink, OpenAI, Zip2, and X.com (part of PayPal)\n",
    "Spouses\t\n",
    "Justine Wilson\n",
    "​\n",
    "​(m. 2000; div. 2008)​\n",
    "Talulah Riley\n",
    "​\n",
    "​(m. 2010; div. 2012)​\n",
    "​\n",
    "​(m. 2013; div. 2016)​\n",
    "Partner\tGrimes (2018–2021)[1]\n",
    "Children\t10[2]\n",
    "Parents\t\n",
    "Errol Musk\n",
    "Maye Musk\n",
    "Family\tMusk family\n",
    "'''"
   ]
  },
  {
   "cell_type": "code",
   "execution_count": 14,
   "id": "02d7cf24",
   "metadata": {},
   "outputs": [
    {
     "data": {
      "text/plain": [
       "['Elon Reeve Musk']"
      ]
     },
     "execution_count": 14,
     "metadata": {},
     "output_type": "execute_result"
    }
   ],
   "source": [
    "# Name\n",
    "pattern = 'Born\t([^\\n]*)'\n",
    "matches = re.findall(pattern, text)\n",
    "matches"
   ]
  },
  {
   "cell_type": "code",
   "execution_count": 15,
   "id": "781f016f",
   "metadata": {},
   "outputs": [
    {
     "data": {
      "text/plain": [
       "['June 28, 1971']"
      ]
     },
     "execution_count": 15,
     "metadata": {},
     "output_type": "execute_result"
    }
   ],
   "source": [
    "# Birth date\n",
    "# pattern = 'Born.*\\n([a-zA-Z1-9, ]*)'\n",
    "pattern = 'Born.*\\n(.*) \\(age'\n",
    "matches = re.findall(pattern, text)\n",
    "matches"
   ]
  },
  {
   "cell_type": "code",
   "execution_count": 16,
   "id": "39b33f6a",
   "metadata": {},
   "outputs": [
    {
     "data": {
      "text/plain": [
       "'Pretoria, Transvaal, South Africa'"
      ]
     },
     "execution_count": 16,
     "metadata": {},
     "output_type": "execute_result"
    }
   ],
   "source": [
    "pattern = '\\(age.*\\n(.*)'\n",
    "matches = re.findall(pattern, text)\n",
    "matches[0]"
   ]
  },
  {
   "cell_type": "code",
   "execution_count": 17,
   "id": "ceb4929a",
   "metadata": {},
   "outputs": [],
   "source": [
    "def get_pattern_matches(pattern, text) :\n",
    "    matches = re.findall(pattern, text)\n",
    "    if matches :\n",
    "        return matches[0]"
   ]
  },
  {
   "cell_type": "code",
   "execution_count": 18,
   "id": "bd086cc0",
   "metadata": {},
   "outputs": [
    {
     "data": {
      "text/plain": [
       "'Pretoria, Transvaal, South Africa'"
      ]
     },
     "execution_count": 18,
     "metadata": {},
     "output_type": "execute_result"
    }
   ],
   "source": [
    "get_pattern_matches(pattern, text)"
   ]
  },
  {
   "cell_type": "code",
   "execution_count": 19,
   "id": "a04ca51d",
   "metadata": {},
   "outputs": [],
   "source": [
    "def get_personal_info (text):\n",
    "    age = get_pattern_matches('\\(age (\\d*)', text)\n",
    "    birth_place = get_pattern_matches('\\(age.*\\n(.*)', text)\n",
    "    birth_date = get_pattern_matches('Born.*\\n(.*) \\(age', text)\n",
    "    name = get_pattern_matches('Born\t([^\\n]*)', text)\n",
    "    \n",
    "    return {\n",
    "        'age' : int(age),\n",
    "        'birth_place' : birth_place,\n",
    "        'birth_date' : birth_date,\n",
    "        'name' : name\n",
    "    }"
   ]
  },
  {
   "cell_type": "code",
   "execution_count": 21,
   "id": "cbba3351",
   "metadata": {},
   "outputs": [
    {
     "data": {
      "text/plain": [
       "{'age': 52,\n",
       " 'birth_place': 'Pretoria, Transvaal, South Africa',\n",
       " 'birth_date': 'June 28, 1971',\n",
       " 'name': 'Elon Reeve Musk'}"
      ]
     },
     "execution_count": 21,
     "metadata": {},
     "output_type": "execute_result"
    }
   ],
   "source": [
    "get_personal_info(text)"
   ]
  },
  {
   "cell_type": "code",
   "execution_count": null,
   "id": "8da8ece0",
   "metadata": {},
   "outputs": [],
   "source": []
  }
 ],
 "metadata": {
  "kernelspec": {
   "display_name": "Python 3 (ipykernel)",
   "language": "python",
   "name": "python3"
  },
  "language_info": {
   "codemirror_mode": {
    "name": "ipython",
    "version": 3
   },
   "file_extension": ".py",
   "mimetype": "text/x-python",
   "name": "python",
   "nbconvert_exporter": "python",
   "pygments_lexer": "ipython3",
   "version": "3.11.5"
  }
 },
 "nbformat": 4,
 "nbformat_minor": 5
}
