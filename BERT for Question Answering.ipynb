{
  "cells": [
    {
      "cell_type": "markdown",
      "source": [
        "#  **BERT for Question Answering**\n",
        "\n",
        "This notebook explores using the BERT (Bidirectional Encoder Representations from Transformers) model for answering questions posed against a context. It is an engaging way to understand how natural language understanding works in practice.\n",
        "\n",
        "## Setup and Imports\n",
        "\n",
        "Before we start, we need to import the necessary libraries to handle data processing, modeling, and visualization."
      ],
      "metadata": {
        "id": "EF93z5ShdNkO"
      }
    },
    {
      "cell_type": "code",
      "source": [
        "!pip install transformers[torch]==4.38.2\n",
        "!pip install datasets===2.13.1\n",
        "!pip install plotly"
      ],
      "metadata": {
        "colab": {
          "base_uri": "https://localhost:8080/"
        },
        "id": "KmMAcAqHeOLu",
        "outputId": "26bdb4ca-74fa-4c4d-d3a4-e20d33988612",
        "collapsed": true
      },
      "execution_count": null,
      "outputs": [
        {
          "output_type": "stream",
          "name": "stdout",
          "text": [
            "Requirement already satisfied: transformers[torch]==4.38.2 in /usr/local/lib/python3.10/dist-packages (4.38.2)\n",
            "Requirement already satisfied: filelock in /usr/local/lib/python3.10/dist-packages (from transformers[torch]==4.38.2) (3.14.0)\n",
            "Requirement already satisfied: huggingface-hub<1.0,>=0.19.3 in /usr/local/lib/python3.10/dist-packages (from transformers[torch]==4.38.2) (0.23.1)\n",
            "Requirement already satisfied: numpy>=1.17 in /usr/local/lib/python3.10/dist-packages (from transformers[torch]==4.38.2) (1.25.2)\n",
            "Requirement already satisfied: packaging>=20.0 in /usr/local/lib/python3.10/dist-packages (from transformers[torch]==4.38.2) (24.0)\n",
            "Requirement already satisfied: pyyaml>=5.1 in /usr/local/lib/python3.10/dist-packages (from transformers[torch]==4.38.2) (6.0.1)\n",
            "Requirement already satisfied: regex!=2019.12.17 in /usr/local/lib/python3.10/dist-packages (from transformers[torch]==4.38.2) (2023.12.25)\n",
            "Requirement already satisfied: requests in /usr/local/lib/python3.10/dist-packages (from transformers[torch]==4.38.2) (2.31.0)\n",
            "Requirement already satisfied: tokenizers<0.19,>=0.14 in /usr/local/lib/python3.10/dist-packages (from transformers[torch]==4.38.2) (0.15.2)\n",
            "Requirement already satisfied: safetensors>=0.4.1 in /usr/local/lib/python3.10/dist-packages (from transformers[torch]==4.38.2) (0.4.3)\n",
            "Requirement already satisfied: tqdm>=4.27 in /usr/local/lib/python3.10/dist-packages (from transformers[torch]==4.38.2) (4.66.4)\n",
            "Requirement already satisfied: torch in /usr/local/lib/python3.10/dist-packages (from transformers[torch]==4.38.2) (2.3.0+cu121)\n",
            "Requirement already satisfied: accelerate>=0.21.0 in /usr/local/lib/python3.10/dist-packages (from transformers[torch]==4.38.2) (0.30.1)\n",
            "Requirement already satisfied: psutil in /usr/local/lib/python3.10/dist-packages (from accelerate>=0.21.0->transformers[torch]==4.38.2) (5.9.5)\n",
            "Requirement already satisfied: fsspec>=2023.5.0 in /usr/local/lib/python3.10/dist-packages (from huggingface-hub<1.0,>=0.19.3->transformers[torch]==4.38.2) (2023.6.0)\n",
            "Requirement already satisfied: typing-extensions>=3.7.4.3 in /usr/local/lib/python3.10/dist-packages (from huggingface-hub<1.0,>=0.19.3->transformers[torch]==4.38.2) (4.11.0)\n",
            "Requirement already satisfied: sympy in /usr/local/lib/python3.10/dist-packages (from torch->transformers[torch]==4.38.2) (1.12)\n",
            "Requirement already satisfied: networkx in /usr/local/lib/python3.10/dist-packages (from torch->transformers[torch]==4.38.2) (3.3)\n",
            "Requirement already satisfied: jinja2 in /usr/local/lib/python3.10/dist-packages (from torch->transformers[torch]==4.38.2) (3.1.4)\n",
            "Requirement already satisfied: nvidia-cuda-nvrtc-cu12==12.1.105 in /usr/local/lib/python3.10/dist-packages (from torch->transformers[torch]==4.38.2) (12.1.105)\n",
            "Requirement already satisfied: nvidia-cuda-runtime-cu12==12.1.105 in /usr/local/lib/python3.10/dist-packages (from torch->transformers[torch]==4.38.2) (12.1.105)\n",
            "Requirement already satisfied: nvidia-cuda-cupti-cu12==12.1.105 in /usr/local/lib/python3.10/dist-packages (from torch->transformers[torch]==4.38.2) (12.1.105)\n",
            "Requirement already satisfied: nvidia-cudnn-cu12==8.9.2.26 in /usr/local/lib/python3.10/dist-packages (from torch->transformers[torch]==4.38.2) (8.9.2.26)\n",
            "Requirement already satisfied: nvidia-cublas-cu12==12.1.3.1 in /usr/local/lib/python3.10/dist-packages (from torch->transformers[torch]==4.38.2) (12.1.3.1)\n",
            "Requirement already satisfied: nvidia-cufft-cu12==11.0.2.54 in /usr/local/lib/python3.10/dist-packages (from torch->transformers[torch]==4.38.2) (11.0.2.54)\n",
            "Requirement already satisfied: nvidia-curand-cu12==10.3.2.106 in /usr/local/lib/python3.10/dist-packages (from torch->transformers[torch]==4.38.2) (10.3.2.106)\n",
            "Requirement already satisfied: nvidia-cusolver-cu12==11.4.5.107 in /usr/local/lib/python3.10/dist-packages (from torch->transformers[torch]==4.38.2) (11.4.5.107)\n",
            "Requirement already satisfied: nvidia-cusparse-cu12==12.1.0.106 in /usr/local/lib/python3.10/dist-packages (from torch->transformers[torch]==4.38.2) (12.1.0.106)\n",
            "Requirement already satisfied: nvidia-nccl-cu12==2.20.5 in /usr/local/lib/python3.10/dist-packages (from torch->transformers[torch]==4.38.2) (2.20.5)\n",
            "Requirement already satisfied: nvidia-nvtx-cu12==12.1.105 in /usr/local/lib/python3.10/dist-packages (from torch->transformers[torch]==4.38.2) (12.1.105)\n",
            "Requirement already satisfied: triton==2.3.0 in /usr/local/lib/python3.10/dist-packages (from torch->transformers[torch]==4.38.2) (2.3.0)\n",
            "Requirement already satisfied: nvidia-nvjitlink-cu12 in /usr/local/lib/python3.10/dist-packages (from nvidia-cusolver-cu12==11.4.5.107->torch->transformers[torch]==4.38.2) (12.5.40)\n",
            "Requirement already satisfied: charset-normalizer<4,>=2 in /usr/local/lib/python3.10/dist-packages (from requests->transformers[torch]==4.38.2) (3.3.2)\n",
            "Requirement already satisfied: idna<4,>=2.5 in /usr/local/lib/python3.10/dist-packages (from requests->transformers[torch]==4.38.2) (3.7)\n",
            "Requirement already satisfied: urllib3<3,>=1.21.1 in /usr/local/lib/python3.10/dist-packages (from requests->transformers[torch]==4.38.2) (2.0.7)\n",
            "Requirement already satisfied: certifi>=2017.4.17 in /usr/local/lib/python3.10/dist-packages (from requests->transformers[torch]==4.38.2) (2024.2.2)\n",
            "Requirement already satisfied: MarkupSafe>=2.0 in /usr/local/lib/python3.10/dist-packages (from jinja2->torch->transformers[torch]==4.38.2) (2.1.5)\n",
            "Requirement already satisfied: mpmath>=0.19 in /usr/local/lib/python3.10/dist-packages (from sympy->torch->transformers[torch]==4.38.2) (1.3.0)\n",
            "Requirement already satisfied: datasets===2.13.1 in /usr/local/lib/python3.10/dist-packages (2.13.1)\n",
            "Requirement already satisfied: numpy>=1.17 in /usr/local/lib/python3.10/dist-packages (from datasets===2.13.1) (1.25.2)\n",
            "Requirement already satisfied: pyarrow>=8.0.0 in /usr/local/lib/python3.10/dist-packages (from datasets===2.13.1) (14.0.2)\n",
            "Requirement already satisfied: dill<0.3.7,>=0.3.0 in /usr/local/lib/python3.10/dist-packages (from datasets===2.13.1) (0.3.6)\n",
            "Requirement already satisfied: pandas in /usr/local/lib/python3.10/dist-packages (from datasets===2.13.1) (2.0.3)\n",
            "Requirement already satisfied: requests>=2.19.0 in /usr/local/lib/python3.10/dist-packages (from datasets===2.13.1) (2.31.0)\n",
            "Requirement already satisfied: tqdm>=4.62.1 in /usr/local/lib/python3.10/dist-packages (from datasets===2.13.1) (4.66.4)\n",
            "Requirement already satisfied: xxhash in /usr/local/lib/python3.10/dist-packages (from datasets===2.13.1) (3.4.1)\n",
            "Requirement already satisfied: multiprocess in /usr/local/lib/python3.10/dist-packages (from datasets===2.13.1) (0.70.14)\n",
            "Requirement already satisfied: fsspec[http]>=2021.11.1 in /usr/local/lib/python3.10/dist-packages (from datasets===2.13.1) (2023.6.0)\n",
            "Requirement already satisfied: aiohttp in /usr/local/lib/python3.10/dist-packages (from datasets===2.13.1) (3.9.5)\n",
            "Requirement already satisfied: huggingface-hub<1.0.0,>=0.11.0 in /usr/local/lib/python3.10/dist-packages (from datasets===2.13.1) (0.23.1)\n",
            "Requirement already satisfied: packaging in /usr/local/lib/python3.10/dist-packages (from datasets===2.13.1) (24.0)\n",
            "Requirement already satisfied: pyyaml>=5.1 in /usr/local/lib/python3.10/dist-packages (from datasets===2.13.1) (6.0.1)\n",
            "Requirement already satisfied: aiosignal>=1.1.2 in /usr/local/lib/python3.10/dist-packages (from aiohttp->datasets===2.13.1) (1.3.1)\n",
            "Requirement already satisfied: attrs>=17.3.0 in /usr/local/lib/python3.10/dist-packages (from aiohttp->datasets===2.13.1) (23.2.0)\n",
            "Requirement already satisfied: frozenlist>=1.1.1 in /usr/local/lib/python3.10/dist-packages (from aiohttp->datasets===2.13.1) (1.4.1)\n",
            "Requirement already satisfied: multidict<7.0,>=4.5 in /usr/local/lib/python3.10/dist-packages (from aiohttp->datasets===2.13.1) (6.0.5)\n",
            "Requirement already satisfied: yarl<2.0,>=1.0 in /usr/local/lib/python3.10/dist-packages (from aiohttp->datasets===2.13.1) (1.9.4)\n",
            "Requirement already satisfied: async-timeout<5.0,>=4.0 in /usr/local/lib/python3.10/dist-packages (from aiohttp->datasets===2.13.1) (4.0.3)\n",
            "Requirement already satisfied: filelock in /usr/local/lib/python3.10/dist-packages (from huggingface-hub<1.0.0,>=0.11.0->datasets===2.13.1) (3.14.0)\n",
            "Requirement already satisfied: typing-extensions>=3.7.4.3 in /usr/local/lib/python3.10/dist-packages (from huggingface-hub<1.0.0,>=0.11.0->datasets===2.13.1) (4.11.0)\n",
            "Requirement already satisfied: charset-normalizer<4,>=2 in /usr/local/lib/python3.10/dist-packages (from requests>=2.19.0->datasets===2.13.1) (3.3.2)\n",
            "Requirement already satisfied: idna<4,>=2.5 in /usr/local/lib/python3.10/dist-packages (from requests>=2.19.0->datasets===2.13.1) (3.7)\n",
            "Requirement already satisfied: urllib3<3,>=1.21.1 in /usr/local/lib/python3.10/dist-packages (from requests>=2.19.0->datasets===2.13.1) (2.0.7)\n",
            "Requirement already satisfied: certifi>=2017.4.17 in /usr/local/lib/python3.10/dist-packages (from requests>=2.19.0->datasets===2.13.1) (2024.2.2)\n",
            "Requirement already satisfied: python-dateutil>=2.8.2 in /usr/local/lib/python3.10/dist-packages (from pandas->datasets===2.13.1) (2.8.2)\n",
            "Requirement already satisfied: pytz>=2020.1 in /usr/local/lib/python3.10/dist-packages (from pandas->datasets===2.13.1) (2023.4)\n",
            "Requirement already satisfied: tzdata>=2022.1 in /usr/local/lib/python3.10/dist-packages (from pandas->datasets===2.13.1) (2024.1)\n",
            "Requirement already satisfied: six>=1.5 in /usr/local/lib/python3.10/dist-packages (from python-dateutil>=2.8.2->pandas->datasets===2.13.1) (1.16.0)\n",
            "Requirement already satisfied: plotly in /usr/local/lib/python3.10/dist-packages (5.15.0)\n",
            "Requirement already satisfied: tenacity>=6.2.0 in /usr/local/lib/python3.10/dist-packages (from plotly) (8.3.0)\n",
            "Requirement already satisfied: packaging in /usr/local/lib/python3.10/dist-packages (from plotly) (24.0)\n"
          ]
        }
      ]
    },
    {
      "cell_type": "code",
      "execution_count": null,
      "metadata": {
        "id": "7MvpViouccwB"
      },
      "outputs": [],
      "source": [
        "import torch\n",
        "from transformers import (\n",
        "    BertForQuestionAnswering,\n",
        "    BertTokenizerFast,\n",
        ")\n",
        "from scipy.special import softmax\n",
        "import plotly.express as px\n",
        "import pandas as pd\n",
        "import numpy as np\n"
      ]
    },
    {
      "cell_type": "markdown",
      "source": [
        "## Data Preparation\n",
        "\n",
        "Define the context and question that will be used to demonstrate the BERT model's question-answering capabilities."
      ],
      "metadata": {
        "id": "OowBCGc_dQxq"
      }
    },
    {
      "cell_type": "code",
      "execution_count": null,
      "metadata": {
        "id": "UY1f3SKRccwD"
      },
      "outputs": [],
      "source": [
        "context = \"The giraffe is a large African hoofed mammal belonging to the genus Giraffa. It is the tallest living terrestrial animal and the largest ruminant on Earth. Traditionally, giraffes were thought to be one species, Giraffa camelopardalis, with nine subspecies. Most recently, researchers proposed dividing them into up to eight extant species due to new research into their mitochondrial and nuclear DNA, as well as morphological measurements. Seven other extinct species of Giraffa are known from the fossil record.\"\n",
        "question = \"How many giraffe species are there?\"\n"
      ]
    },
    {
      "cell_type": "markdown",
      "source": [
        "## Model Setup\n",
        "\n",
        "Load the BERT model and tokenizer designed for question answering tasks."
      ],
      "metadata": {
        "id": "cA9rrg6DdUvA"
      }
    },
    {
      "cell_type": "code",
      "execution_count": null,
      "metadata": {
        "colab": {
          "base_uri": "https://localhost:8080/"
        },
        "id": "Aakxd1L4ccwE",
        "outputId": "3a04818b-2928-4c07-db73-14732c718db9",
        "collapsed": true
      },
      "outputs": [
        {
          "output_type": "stream",
          "name": "stderr",
          "text": [
            "/usr/local/lib/python3.10/dist-packages/huggingface_hub/file_download.py:1132: FutureWarning:\n",
            "\n",
            "`resume_download` is deprecated and will be removed in version 1.0.0. Downloads always resume when possible. If you want to force a new download, use `force_download=True`.\n",
            "\n",
            "Some weights of the model checkpoint at deepset/bert-base-cased-squad2 were not used when initializing BertForQuestionAnswering: ['bert.pooler.dense.bias', 'bert.pooler.dense.weight']\n",
            "- This IS expected if you are initializing BertForQuestionAnswering from the checkpoint of a model trained on another task or with another architecture (e.g. initializing a BertForSequenceClassification model from a BertForPreTraining model).\n",
            "- This IS NOT expected if you are initializing BertForQuestionAnswering from the checkpoint of a model that you expect to be exactly identical (initializing a BertForSequenceClassification model from a BertForSequenceClassification model).\n"
          ]
        }
      ],
      "source": [
        "model_name = \"deepset/bert-base-cased-squad2\"\n",
        "tokenizer = BertTokenizerFast.from_pretrained(model_name)\n",
        "model = BertForQuestionAnswering.from_pretrained(model_name)\n"
      ]
    },
    {
      "cell_type": "markdown",
      "source": [
        "### Tokenization for Question Answering\n",
        "\n",
        "Tokenize the context and the question, and perform inference to get model predictions.\n",
        "\n",
        "The result, `inputs`, is a dictionary containing:\n",
        "- `input_ids`: The token IDs of the tokenized input.\n",
        "- `token_type_ids`: Segment IDs to distinguish between the question and the context.\n",
        "- `attention_mask`: Mask to avoid attending to padding tokens.\n"
      ],
      "metadata": {
        "id": "6TUf_RCqdZmt"
      }
    },
    {
      "cell_type": "code",
      "execution_count": null,
      "metadata": {
        "colab": {
          "base_uri": "https://localhost:8080/"
        },
        "id": "xDRg6b7JccwE",
        "outputId": "4693498f-0e8e-483d-b7cb-d7934339b8b3"
      },
      "outputs": [
        {
          "output_type": "execute_result",
          "data": {
            "text/plain": [
              "['The',\n",
              " 'g',\n",
              " '##ira',\n",
              " '##ffe',\n",
              " 'is',\n",
              " 'a',\n",
              " 'large',\n",
              " 'African',\n",
              " 'ho',\n",
              " '##of',\n",
              " '##ed',\n",
              " 'ma',\n",
              " '##mmal',\n",
              " 'belonging',\n",
              " 'to',\n",
              " 'the',\n",
              " 'genus',\n",
              " 'G',\n",
              " '##ira',\n",
              " '##ff',\n",
              " '##a',\n",
              " '.',\n",
              " 'It',\n",
              " 'is',\n",
              " 'the',\n",
              " 'tallest',\n",
              " 'living',\n",
              " 'terrestrial',\n",
              " 'animal',\n",
              " 'and',\n",
              " 'the',\n",
              " 'largest',\n",
              " 'r',\n",
              " '##umi',\n",
              " '##nant',\n",
              " 'on',\n",
              " 'Earth',\n",
              " '.',\n",
              " 'Traditionally',\n",
              " ',',\n",
              " 'g',\n",
              " '##ira',\n",
              " '##ffe',\n",
              " '##s',\n",
              " 'were',\n",
              " 'thought',\n",
              " 'to',\n",
              " 'be',\n",
              " 'one',\n",
              " 'species',\n",
              " ',',\n",
              " 'G',\n",
              " '##ira',\n",
              " '##ff',\n",
              " '##a',\n",
              " 'came',\n",
              " '##lop',\n",
              " '##ard',\n",
              " '##alis',\n",
              " ',',\n",
              " 'with',\n",
              " 'nine',\n",
              " 'subspecies',\n",
              " '.',\n",
              " 'Most',\n",
              " 'recently',\n",
              " ',',\n",
              " 'researchers',\n",
              " 'proposed',\n",
              " 'dividing',\n",
              " 'them',\n",
              " 'into',\n",
              " 'up',\n",
              " 'to',\n",
              " 'eight',\n",
              " 'extant',\n",
              " 'species',\n",
              " 'due',\n",
              " 'to',\n",
              " 'new',\n",
              " 'research',\n",
              " 'into',\n",
              " 'their',\n",
              " 'mitochondrial',\n",
              " 'and',\n",
              " 'nuclear',\n",
              " 'DNA',\n",
              " ',',\n",
              " 'as',\n",
              " 'well',\n",
              " 'as',\n",
              " 'm',\n",
              " '##or',\n",
              " '##phological',\n",
              " 'measurements',\n",
              " '.',\n",
              " 'Seven',\n",
              " 'other',\n",
              " 'extinct',\n",
              " 'species',\n",
              " 'of',\n",
              " 'G',\n",
              " '##ira',\n",
              " '##ff',\n",
              " '##a',\n",
              " 'are',\n",
              " 'known',\n",
              " 'from',\n",
              " 'the',\n",
              " 'fossil',\n",
              " 'record',\n",
              " '.']"
            ]
          },
          "metadata": {},
          "execution_count": 39
        }
      ],
      "source": [
        "inputs = tokenizer(question, context, return_tensors=\"pt\")\n",
        "tokenizer.tokenize(context)\n"
      ]
    },
    {
      "cell_type": "code",
      "execution_count": null,
      "metadata": {
        "id": "WJ63-LcEccwF"
      },
      "outputs": [],
      "source": [
        "# Running the model and getting the start and end scores\n",
        "with torch.no_grad():\n",
        "    outputs = model(**inputs)\n",
        "start_scores, end_scores = softmax(outputs.start_logits)[0], softmax(outputs.end_logits)[0]\n"
      ]
    },
    {
      "cell_type": "markdown",
      "source": [
        "### Visualization of Token Scores 🎯\n",
        "\n",
        "Plot the scores associated with each token to understand the model's decision-making process."
      ],
      "metadata": {
        "id": "w5tKEXtzdcSl"
      }
    },
    {
      "cell_type": "code",
      "execution_count": null,
      "metadata": {
        "colab": {
          "base_uri": "https://localhost:8080/",
          "height": 542
        },
        "id": "g6f9MHvzccwF",
        "outputId": "97cc052e-b9b2-4e88-e319-f3bb829e67a2"
      },
      "outputs": [
        {
          "output_type": "display_data",
          "data": {
            "text/html": [
              "<html>\n",
              "<head><meta charset=\"utf-8\" /></head>\n",
              "<body>\n",
              "    <div>            <script src=\"https://cdnjs.cloudflare.com/ajax/libs/mathjax/2.7.5/MathJax.js?config=TeX-AMS-MML_SVG\"></script><script type=\"text/javascript\">if (window.MathJax && window.MathJax.Hub && window.MathJax.Hub.Config) {window.MathJax.Hub.Config({SVG: {font: \"STIX-Web\"}});}</script>                <script type=\"text/javascript\">window.PlotlyConfig = {MathJaxConfig: 'local'};</script>\n",
              "        <script charset=\"utf-8\" src=\"https://cdn.plot.ly/plotly-2.24.1.min.js\"></script>                <div id=\"bf593299-9d38-4d84-afd6-8ff6981ef3d0\" class=\"plotly-graph-div\" style=\"height:525px; width:100%;\"></div>            <script type=\"text/javascript\">                                    window.PLOTLYENV=window.PLOTLYENV || {};                                    if (document.getElementById(\"bf593299-9d38-4d84-afd6-8ff6981ef3d0\")) {                    Plotly.newPlot(                        \"bf593299-9d38-4d84-afd6-8ff6981ef3d0\",                        [{\"alignmentgroup\":\"True\",\"hovertemplate\":\"Score Type=Start\\u003cbr\\u003eToken Position=%{x}\\u003cbr\\u003eScore=%{y}\\u003cextra\\u003e\\u003c\\u002fextra\\u003e\",\"legendgroup\":\"Start\",\"marker\":{\"color\":\"#636efa\",\"pattern\":{\"shape\":\"\"}},\"name\":\"Start\",\"offsetgroup\":\"Start\",\"orientation\":\"v\",\"showlegend\":true,\"textposition\":\"auto\",\"x\":[0,1,2,3,4,5,6,7,8,9,10,11,12,13,14,15,16,17,18,19,20,21,22,23,24,25,26,27,28,29,30,31,32,33,34,35,36,37,38,39,40,41,42,43,44,45,46,47,48,49,50,51,52,53,54,55,56,57,58,59,60,61,62,63,64,65,66,67,68,69,70,71,72,73,74,75,76,77,78,79,80,81,82,83,84,85,86,87,88,89,90,91,92,93,94,95,96,97,98,99,100,101,102,103,104,105,106,107,108,109,110,111,112,113,114,115,116,117,118,119,120,121,122,123],\"xaxis\":\"x\",\"y\":[0.1105632483959198,0.00011341335630277172,6.28229245194234e-05,0.0001471143332310021,5.315095404512249e-05,3.934376945835538e-05,3.24530883517582e-05,6.379075784934685e-05,7.104175165295601e-05,8.052279736148193e-05,3.923944677808322e-05,7.679664122406393e-05,0.003286376828327775,7.159749657148495e-05,0.00035968521842733026,6.388579640770331e-05,0.0003527254448272288,0.0009797265520319343,0.000167203281307593,0.00035623376606963575,6.524885247927159e-05,3.102911796304397e-05,0.0002690169494599104,0.00014463740808423609,7.680441194679588e-05,4.43261451437138e-05,6.291369936661795e-05,9.058535215444863e-05,0.0002675837022252381,5.121656067785807e-05,0.0001110791927203536,3.489879236440174e-05,6.73571921652183e-05,0.0005159943830221891,8.29631244414486e-05,0.00015971319226082414,0.0007330432999879122,8.74868273967877e-05,0.00018872226064559072,4.7467154217883945e-05,4.317146886023693e-05,0.00010178201773669571,0.00023131360649131238,0.0001537834614282474,5.088685793452896e-05,2.1036139514762908e-05,3.7642901588696986e-05,0.00010657024540705606,5.195324411033653e-05,0.00017722613119985908,9.973050327971578e-05,0.01673615165054798,0.0001046437319018878,0.00015263940440490842,7.070818537613377e-05,7.832230039639398e-05,0.00020973861683160067,9.362989658256993e-05,8.382098894799128e-05,0.030407710000872612,0.0004755754489451647,2.791618499031756e-05,0.0026077162474393845,0.00010992850729962811,0.000341395556461066,5.99107843299862e-05,0.0007819375023245811,5.5897126003401354e-05,6.741271499777213e-05,1.771260031091515e-05,3.1099927582545206e-05,0.00014674763951916248,0.05515165999531746,0.0011989135527983308,0.0006257985369302332,0.0005373887834139168,0.00010498778283363208,5.424466507975012e-05,0.00017647510685492307,0.00012876346590928733,0.00017141326679848135,0.00025467475643381476,0.0002979551500175148,0.1354282647371292,0.00036844410351477563,0.6243404746055603,0.0009327421430498362,0.001706740353256464,0.00013230161857791245,3.782607018365525e-05,9.115949069382623e-05,9.04705302673392e-05,4.229207115713507e-05,5.1434086344670504e-05,0.00046873895917087793,3.336137524456717e-05,0.00010841760376933962,5.9128327848156914e-05,1.7892036339617334e-05,3.580573320505209e-05,2.8070919142919593e-05,2.978565862576943e-05,6.692461465718225e-05,4.026963870273903e-05,2.6400284696137533e-05,4.999431621399708e-05,2.950722409877926e-05,0.0011947891907766461,3.315476715215482e-05,5.8274010370951146e-05,3.3815911592682824e-05,3.449645373621024e-05,0.001286910381168127,5.593738751485944e-05,0.00014580045535694808,1.6476393284392543e-05,5.408005017670803e-05,5.0528331485111266e-05,5.378728383220732e-05,5.356021210900508e-05,6.581845809705555e-05,2.6797211830853485e-05,2.9655560865649022e-05,3.9239228499354795e-05],\"yaxis\":\"y\",\"type\":\"bar\"},{\"alignmentgroup\":\"True\",\"hovertemplate\":\"Score Type=End\\u003cbr\\u003eToken Position=%{x}\\u003cbr\\u003eScore=%{y}\\u003cextra\\u003e\\u003c\\u002fextra\\u003e\",\"legendgroup\":\"End\",\"marker\":{\"color\":\"#EF553B\",\"pattern\":{\"shape\":\"\"}},\"name\":\"End\",\"offsetgroup\":\"End\",\"orientation\":\"v\",\"showlegend\":true,\"textposition\":\"auto\",\"x\":[0,1,2,3,4,5,6,7,8,9,10,11,12,13,14,15,16,17,18,19,20,21,22,23,24,25,26,27,28,29,30,31,32,33,34,35,36,37,38,39,40,41,42,43,44,45,46,47,48,49,50,51,52,53,54,55,56,57,58,59,60,61,62,63,64,65,66,67,68,69,70,71,72,73,74,75,76,77,78,79,80,81,82,83,84,85,86,87,88,89,90,91,92,93,94,95,96,97,98,99,100,101,102,103,104,105,106,107,108,109,110,111,112,113,114,115,116,117,118,119,120,121,122,123],\"xaxis\":\"x\",\"y\":[0.12044674158096313,5.337253969628364e-05,9.372515341965482e-05,2.2573116439161822e-05,4.229352998663671e-05,8.724713552510366e-05,0.00011216917482670397,4.6817262045806274e-05,5.631427120533772e-05,6.47840861347504e-05,6.836784450570121e-05,4.716825787909329e-05,6.392451177816838e-05,4.474240995477885e-05,0.0002293248544447124,5.563123704632744e-05,5.460697502712719e-05,0.0001346066128462553,0.00011029681627405807,5.5986874940572307e-05,0.000101208541309461,8.717751916265115e-05,4.5839104132028297e-05,0.0006491062231361866,4.3529667891561985e-05,5.083613723400049e-05,4.127796273678541e-05,6.0619902797043324e-05,7.2284005000256e-05,4.833206185139716e-05,0.00016950179997365922,0.0008497750968672335,0.00039260313496924937,5.844900806550868e-05,4.213909414829686e-05,3.1634186598239467e-05,0.000570929201785475,8.5837411461398e-05,0.00017055156058631837,0.00020155729725956917,5.422430331236683e-05,2.6832331059267744e-05,0.00013715813111048192,3.357481909915805e-05,3.985040166298859e-05,0.00018596860172692686,5.875292117707431e-05,0.0009036095580086112,0.0003306125581730157,3.669608850032091e-05,4.964015170116909e-05,6.395328819053248e-05,3.580543489078991e-05,6.628372648265213e-05,0.00018197951430920511,3.543550337781198e-05,2.0291998225729913e-05,2.8624112019315362e-05,3.8299200241453946e-05,0.014456774108111858,0.012261520139873028,0.00015811364573892206,0.00020365642558317631,4.7727629862492904e-05,0.00028308338369242847,0.0008313825819641352,7.243997242767364e-05,5.241544567979872e-05,0.00010060786007670686,0.00046675113844685256,0.00038564414717257023,2.760735515039414e-05,0.03707215562462807,0.01119906920939684,0.020960133522748947,3.60146768798586e-05,6.509770901175216e-05,5.0021179049508646e-05,3.370101694599725e-05,3.0487646654364653e-05,2.6510117095313035e-05,0.00029231043299660087,5.084622171125375e-05,0.0042903730645775795,0.00015739959781058133,0.6389185190200806,0.0026353616267442703,0.12322250008583069,6.93226684234105e-05,4.70181621494703e-05,2.8304608349571936e-05,6.390634371200576e-05,4.429628461366519e-05,3.673859828268178e-05,0.00014078160165809095,5.3530256991507486e-05,5.72603712498676e-05,0.00018836774688679725,0.00014205258048605174,5.048403181717731e-05,6.211181607795879e-05,5.5307911679847166e-05,3.7986737879691646e-05,4.967168570146896e-05,7.518727943534032e-05,0.00024280740763060749,0.00010668976756278425,0.0005724879447370768,6.642421067226678e-05,6.390110502252355e-05,9.535721619613469e-05,6.617900362471119e-05,5.295456503517926e-05,4.773108594235964e-05,0.00022504378284793347,0.0003344773140270263,4.399399767862633e-05,5.9847530792467296e-05,3.858618583763018e-05,4.1582428821129724e-05,5.858495205757208e-05,0.00012273149332031608,0.00011021816317224875,6.83680409565568e-05],\"yaxis\":\"y\",\"type\":\"bar\"}],                        {\"template\":{\"data\":{\"histogram2dcontour\":[{\"type\":\"histogram2dcontour\",\"colorbar\":{\"outlinewidth\":0,\"ticks\":\"\"},\"colorscale\":[[0.0,\"#0d0887\"],[0.1111111111111111,\"#46039f\"],[0.2222222222222222,\"#7201a8\"],[0.3333333333333333,\"#9c179e\"],[0.4444444444444444,\"#bd3786\"],[0.5555555555555556,\"#d8576b\"],[0.6666666666666666,\"#ed7953\"],[0.7777777777777778,\"#fb9f3a\"],[0.8888888888888888,\"#fdca26\"],[1.0,\"#f0f921\"]]}],\"choropleth\":[{\"type\":\"choropleth\",\"colorbar\":{\"outlinewidth\":0,\"ticks\":\"\"}}],\"histogram2d\":[{\"type\":\"histogram2d\",\"colorbar\":{\"outlinewidth\":0,\"ticks\":\"\"},\"colorscale\":[[0.0,\"#0d0887\"],[0.1111111111111111,\"#46039f\"],[0.2222222222222222,\"#7201a8\"],[0.3333333333333333,\"#9c179e\"],[0.4444444444444444,\"#bd3786\"],[0.5555555555555556,\"#d8576b\"],[0.6666666666666666,\"#ed7953\"],[0.7777777777777778,\"#fb9f3a\"],[0.8888888888888888,\"#fdca26\"],[1.0,\"#f0f921\"]]}],\"heatmap\":[{\"type\":\"heatmap\",\"colorbar\":{\"outlinewidth\":0,\"ticks\":\"\"},\"colorscale\":[[0.0,\"#0d0887\"],[0.1111111111111111,\"#46039f\"],[0.2222222222222222,\"#7201a8\"],[0.3333333333333333,\"#9c179e\"],[0.4444444444444444,\"#bd3786\"],[0.5555555555555556,\"#d8576b\"],[0.6666666666666666,\"#ed7953\"],[0.7777777777777778,\"#fb9f3a\"],[0.8888888888888888,\"#fdca26\"],[1.0,\"#f0f921\"]]}],\"heatmapgl\":[{\"type\":\"heatmapgl\",\"colorbar\":{\"outlinewidth\":0,\"ticks\":\"\"},\"colorscale\":[[0.0,\"#0d0887\"],[0.1111111111111111,\"#46039f\"],[0.2222222222222222,\"#7201a8\"],[0.3333333333333333,\"#9c179e\"],[0.4444444444444444,\"#bd3786\"],[0.5555555555555556,\"#d8576b\"],[0.6666666666666666,\"#ed7953\"],[0.7777777777777778,\"#fb9f3a\"],[0.8888888888888888,\"#fdca26\"],[1.0,\"#f0f921\"]]}],\"contourcarpet\":[{\"type\":\"contourcarpet\",\"colorbar\":{\"outlinewidth\":0,\"ticks\":\"\"}}],\"contour\":[{\"type\":\"contour\",\"colorbar\":{\"outlinewidth\":0,\"ticks\":\"\"},\"colorscale\":[[0.0,\"#0d0887\"],[0.1111111111111111,\"#46039f\"],[0.2222222222222222,\"#7201a8\"],[0.3333333333333333,\"#9c179e\"],[0.4444444444444444,\"#bd3786\"],[0.5555555555555556,\"#d8576b\"],[0.6666666666666666,\"#ed7953\"],[0.7777777777777778,\"#fb9f3a\"],[0.8888888888888888,\"#fdca26\"],[1.0,\"#f0f921\"]]}],\"surface\":[{\"type\":\"surface\",\"colorbar\":{\"outlinewidth\":0,\"ticks\":\"\"},\"colorscale\":[[0.0,\"#0d0887\"],[0.1111111111111111,\"#46039f\"],[0.2222222222222222,\"#7201a8\"],[0.3333333333333333,\"#9c179e\"],[0.4444444444444444,\"#bd3786\"],[0.5555555555555556,\"#d8576b\"],[0.6666666666666666,\"#ed7953\"],[0.7777777777777778,\"#fb9f3a\"],[0.8888888888888888,\"#fdca26\"],[1.0,\"#f0f921\"]]}],\"mesh3d\":[{\"type\":\"mesh3d\",\"colorbar\":{\"outlinewidth\":0,\"ticks\":\"\"}}],\"scatter\":[{\"fillpattern\":{\"fillmode\":\"overlay\",\"size\":10,\"solidity\":0.2},\"type\":\"scatter\"}],\"parcoords\":[{\"type\":\"parcoords\",\"line\":{\"colorbar\":{\"outlinewidth\":0,\"ticks\":\"\"}}}],\"scatterpolargl\":[{\"type\":\"scatterpolargl\",\"marker\":{\"colorbar\":{\"outlinewidth\":0,\"ticks\":\"\"}}}],\"bar\":[{\"error_x\":{\"color\":\"#2a3f5f\"},\"error_y\":{\"color\":\"#2a3f5f\"},\"marker\":{\"line\":{\"color\":\"#E5ECF6\",\"width\":0.5},\"pattern\":{\"fillmode\":\"overlay\",\"size\":10,\"solidity\":0.2}},\"type\":\"bar\"}],\"scattergeo\":[{\"type\":\"scattergeo\",\"marker\":{\"colorbar\":{\"outlinewidth\":0,\"ticks\":\"\"}}}],\"scatterpolar\":[{\"type\":\"scatterpolar\",\"marker\":{\"colorbar\":{\"outlinewidth\":0,\"ticks\":\"\"}}}],\"histogram\":[{\"marker\":{\"pattern\":{\"fillmode\":\"overlay\",\"size\":10,\"solidity\":0.2}},\"type\":\"histogram\"}],\"scattergl\":[{\"type\":\"scattergl\",\"marker\":{\"colorbar\":{\"outlinewidth\":0,\"ticks\":\"\"}}}],\"scatter3d\":[{\"type\":\"scatter3d\",\"line\":{\"colorbar\":{\"outlinewidth\":0,\"ticks\":\"\"}},\"marker\":{\"colorbar\":{\"outlinewidth\":0,\"ticks\":\"\"}}}],\"scattermapbox\":[{\"type\":\"scattermapbox\",\"marker\":{\"colorbar\":{\"outlinewidth\":0,\"ticks\":\"\"}}}],\"scatterternary\":[{\"type\":\"scatterternary\",\"marker\":{\"colorbar\":{\"outlinewidth\":0,\"ticks\":\"\"}}}],\"scattercarpet\":[{\"type\":\"scattercarpet\",\"marker\":{\"colorbar\":{\"outlinewidth\":0,\"ticks\":\"\"}}}],\"carpet\":[{\"aaxis\":{\"endlinecolor\":\"#2a3f5f\",\"gridcolor\":\"white\",\"linecolor\":\"white\",\"minorgridcolor\":\"white\",\"startlinecolor\":\"#2a3f5f\"},\"baxis\":{\"endlinecolor\":\"#2a3f5f\",\"gridcolor\":\"white\",\"linecolor\":\"white\",\"minorgridcolor\":\"white\",\"startlinecolor\":\"#2a3f5f\"},\"type\":\"carpet\"}],\"table\":[{\"cells\":{\"fill\":{\"color\":\"#EBF0F8\"},\"line\":{\"color\":\"white\"}},\"header\":{\"fill\":{\"color\":\"#C8D4E3\"},\"line\":{\"color\":\"white\"}},\"type\":\"table\"}],\"barpolar\":[{\"marker\":{\"line\":{\"color\":\"#E5ECF6\",\"width\":0.5},\"pattern\":{\"fillmode\":\"overlay\",\"size\":10,\"solidity\":0.2}},\"type\":\"barpolar\"}],\"pie\":[{\"automargin\":true,\"type\":\"pie\"}]},\"layout\":{\"autotypenumbers\":\"strict\",\"colorway\":[\"#636efa\",\"#EF553B\",\"#00cc96\",\"#ab63fa\",\"#FFA15A\",\"#19d3f3\",\"#FF6692\",\"#B6E880\",\"#FF97FF\",\"#FECB52\"],\"font\":{\"color\":\"#2a3f5f\"},\"hovermode\":\"closest\",\"hoverlabel\":{\"align\":\"left\"},\"paper_bgcolor\":\"white\",\"plot_bgcolor\":\"#E5ECF6\",\"polar\":{\"bgcolor\":\"#E5ECF6\",\"angularaxis\":{\"gridcolor\":\"white\",\"linecolor\":\"white\",\"ticks\":\"\"},\"radialaxis\":{\"gridcolor\":\"white\",\"linecolor\":\"white\",\"ticks\":\"\"}},\"ternary\":{\"bgcolor\":\"#E5ECF6\",\"aaxis\":{\"gridcolor\":\"white\",\"linecolor\":\"white\",\"ticks\":\"\"},\"baxis\":{\"gridcolor\":\"white\",\"linecolor\":\"white\",\"ticks\":\"\"},\"caxis\":{\"gridcolor\":\"white\",\"linecolor\":\"white\",\"ticks\":\"\"}},\"coloraxis\":{\"colorbar\":{\"outlinewidth\":0,\"ticks\":\"\"}},\"colorscale\":{\"sequential\":[[0.0,\"#0d0887\"],[0.1111111111111111,\"#46039f\"],[0.2222222222222222,\"#7201a8\"],[0.3333333333333333,\"#9c179e\"],[0.4444444444444444,\"#bd3786\"],[0.5555555555555556,\"#d8576b\"],[0.6666666666666666,\"#ed7953\"],[0.7777777777777778,\"#fb9f3a\"],[0.8888888888888888,\"#fdca26\"],[1.0,\"#f0f921\"]],\"sequentialminus\":[[0.0,\"#0d0887\"],[0.1111111111111111,\"#46039f\"],[0.2222222222222222,\"#7201a8\"],[0.3333333333333333,\"#9c179e\"],[0.4444444444444444,\"#bd3786\"],[0.5555555555555556,\"#d8576b\"],[0.6666666666666666,\"#ed7953\"],[0.7777777777777778,\"#fb9f3a\"],[0.8888888888888888,\"#fdca26\"],[1.0,\"#f0f921\"]],\"diverging\":[[0,\"#8e0152\"],[0.1,\"#c51b7d\"],[0.2,\"#de77ae\"],[0.3,\"#f1b6da\"],[0.4,\"#fde0ef\"],[0.5,\"#f7f7f7\"],[0.6,\"#e6f5d0\"],[0.7,\"#b8e186\"],[0.8,\"#7fbc41\"],[0.9,\"#4d9221\"],[1,\"#276419\"]]},\"xaxis\":{\"gridcolor\":\"white\",\"linecolor\":\"white\",\"ticks\":\"\",\"title\":{\"standoff\":15},\"zerolinecolor\":\"white\",\"automargin\":true,\"zerolinewidth\":2},\"yaxis\":{\"gridcolor\":\"white\",\"linecolor\":\"white\",\"ticks\":\"\",\"title\":{\"standoff\":15},\"zerolinecolor\":\"white\",\"automargin\":true,\"zerolinewidth\":2},\"scene\":{\"xaxis\":{\"backgroundcolor\":\"#E5ECF6\",\"gridcolor\":\"white\",\"linecolor\":\"white\",\"showbackground\":true,\"ticks\":\"\",\"zerolinecolor\":\"white\",\"gridwidth\":2},\"yaxis\":{\"backgroundcolor\":\"#E5ECF6\",\"gridcolor\":\"white\",\"linecolor\":\"white\",\"showbackground\":true,\"ticks\":\"\",\"zerolinecolor\":\"white\",\"gridwidth\":2},\"zaxis\":{\"backgroundcolor\":\"#E5ECF6\",\"gridcolor\":\"white\",\"linecolor\":\"white\",\"showbackground\":true,\"ticks\":\"\",\"zerolinecolor\":\"white\",\"gridwidth\":2}},\"shapedefaults\":{\"line\":{\"color\":\"#2a3f5f\"}},\"annotationdefaults\":{\"arrowcolor\":\"#2a3f5f\",\"arrowhead\":0,\"arrowwidth\":1},\"geo\":{\"bgcolor\":\"white\",\"landcolor\":\"#E5ECF6\",\"subunitcolor\":\"white\",\"showland\":true,\"showlakes\":true,\"lakecolor\":\"white\"},\"title\":{\"x\":0.05},\"mapbox\":{\"style\":\"light\"}}},\"xaxis\":{\"anchor\":\"y\",\"domain\":[0.0,1.0],\"title\":{\"text\":\"Token Position\"}},\"yaxis\":{\"anchor\":\"x\",\"domain\":[0.0,1.0],\"title\":{\"text\":\"Score\"}},\"legend\":{\"title\":{\"text\":\"Score Type\"},\"tracegroupgap\":0},\"title\":{\"text\":\"Start and End Scores for Tokens\"},\"barmode\":\"group\"},                        {\"responsive\": true}                    ).then(function(){\n",
              "                            \n",
              "var gd = document.getElementById('bf593299-9d38-4d84-afd6-8ff6981ef3d0');\n",
              "var x = new MutationObserver(function (mutations, observer) {{\n",
              "        var display = window.getComputedStyle(gd).display;\n",
              "        if (!display || display === 'none') {{\n",
              "            console.log([gd, 'removed!']);\n",
              "            Plotly.purge(gd);\n",
              "            observer.disconnect();\n",
              "        }}\n",
              "}});\n",
              "\n",
              "// Listen for the removal of the full notebook cells\n",
              "var notebookContainer = gd.closest('#notebook-container');\n",
              "if (notebookContainer) {{\n",
              "    x.observe(notebookContainer, {childList: true});\n",
              "}}\n",
              "\n",
              "// Listen for the clearing of the current output cell\n",
              "var outputEl = gd.closest('.output');\n",
              "if (outputEl) {{\n",
              "    x.observe(outputEl, {childList: true});\n",
              "}}\n",
              "\n",
              "                        })                };                            </script>        </div>\n",
              "</body>\n",
              "</html>"
            ]
          },
          "metadata": {}
        }
      ],
      "source": [
        "# Creating a dataframe with the scores and plotting them\n",
        "scores_df = pd.DataFrame({\n",
        "    \"Token Position\": list(range(len(start_scores))) * 2,\n",
        "    \"Score\": list(start_scores) + list(end_scores),\n",
        "    \"Score Type\": [\"Start\"] * len(start_scores) + [\"End\"] * len(end_scores),\n",
        "})\n",
        "px.bar(scores_df, x=\"Token Position\", y=\"Score\", color=\"Score Type\", barmode=\"group\", title=\"Start and End Scores for Tokens\")\n"
      ]
    },
    {
      "cell_type": "markdown",
      "source": [
        "### Extracting the Answer\n",
        "\n",
        "Identify the tokens that comprise the answer based on the highest start and end scores."
      ],
      "metadata": {
        "id": "DaaLeTLEdj9t"
      }
    },
    {
      "cell_type": "code",
      "execution_count": null,
      "metadata": {
        "id": "Nk7JPO4PccwF"
      },
      "outputs": [],
      "source": [
        "# Getting the answer from the model\n",
        "start_idx = np.argmax(start_scores)\n",
        "end_idx = np.argmax(end_scores)\n",
        "answer_ids = inputs.input_ids[0][start_idx: end_idx + 1]\n",
        "answer_tokens = tokenizer.convert_ids_to_tokens(answer_ids)\n",
        "answer = tokenizer.convert_tokens_to_string(answer_tokens)\n"
      ]
    },
    {
      "cell_type": "code",
      "source": [
        "start_idx, end_idx"
      ],
      "metadata": {
        "colab": {
          "base_uri": "https://localhost:8080/"
        },
        "id": "AB426H__6zYB",
        "outputId": "76e5c806-8a9b-4d48-c1e6-9cb99f75f61e"
      },
      "execution_count": null,
      "outputs": [
        {
          "output_type": "execute_result",
          "data": {
            "text/plain": [
              "(85, 85)"
            ]
          },
          "metadata": {},
          "execution_count": 43
        }
      ]
    },
    {
      "cell_type": "code",
      "source": [
        "answer_ids"
      ],
      "metadata": {
        "colab": {
          "base_uri": "https://localhost:8080/"
        },
        "id": "od-N5PF36zZk",
        "outputId": "908cf46f-8526-4145-c746-9933c3ecec8f"
      },
      "execution_count": null,
      "outputs": [
        {
          "output_type": "execute_result",
          "data": {
            "text/plain": [
              "tensor([2022])"
            ]
          },
          "metadata": {},
          "execution_count": 44
        }
      ]
    },
    {
      "cell_type": "code",
      "source": [
        "answer_tokens"
      ],
      "metadata": {
        "colab": {
          "base_uri": "https://localhost:8080/"
        },
        "id": "yc8SubIN7FNg",
        "outputId": "c49871f9-85f9-4234-f4d2-11ecfcabe66b"
      },
      "execution_count": null,
      "outputs": [
        {
          "output_type": "execute_result",
          "data": {
            "text/plain": [
              "['eight']"
            ]
          },
          "metadata": {},
          "execution_count": 45
        }
      ]
    },
    {
      "cell_type": "code",
      "source": [
        "answer"
      ],
      "metadata": {
        "colab": {
          "base_uri": "https://localhost:8080/",
          "height": 35
        },
        "id": "EW65bWJL7Nzr",
        "outputId": "e31c7e15-8fbc-4368-f31c-840ce09de115"
      },
      "execution_count": null,
      "outputs": [
        {
          "output_type": "execute_result",
          "data": {
            "text/plain": [
              "'eight'"
            ],
            "application/vnd.google.colaboratory.intrinsic+json": {
              "type": "string"
            }
          },
          "metadata": {},
          "execution_count": 46
        }
      ]
    },
    {
      "cell_type": "markdown",
      "source": [
        "## Advanced Usage: Sliding Windows & Stride for QA 🚀\n",
        "\n",
        "Define a function to automate the question-answering process with new contexts and questions."
      ],
      "metadata": {
        "id": "bqNpWYk-dmS_"
      }
    },
    {
      "cell_type": "code",
      "execution_count": null,
      "metadata": {
        "id": "qlOnCgyAccwG"
      },
      "outputs": [],
      "source": [
        "# Part 2\n",
        "# Defining a function to predict the answer to a question given a context\n",
        "def predict_answer(context, question):\n",
        "    inputs = tokenizer(question, context, return_tensors=\"pt\", truncation=True, max_length=512)\n",
        "    with torch.no_grad():\n",
        "        outputs = model(**inputs)\n",
        "    start_scores, end_scores = softmax(outputs.start_logits)[0], softmax(outputs.end_logits)[0]\n",
        "    start_idx = np.argmax(start_scores)\n",
        "    end_idx = np.argmax(end_scores)\n",
        "    confidence_score = (start_scores[start_idx] + end_scores[end_idx]) /2\n",
        "    answer_ids = inputs.input_ids[0][start_idx: end_idx + 1]\n",
        "    answer_tokens = tokenizer.convert_ids_to_tokens(answer_ids)\n",
        "    answer = tokenizer.convert_tokens_to_string(answer_tokens)\n",
        "    if answer != tokenizer.cls_token:\n",
        "        return answer, confidence_score\n",
        "    return None, confidence_score\n"
      ]
    },
    {
      "cell_type": "markdown",
      "source": [
        "\n",
        "### Evaluating the Function\n",
        "\n",
        "Test the `predict_answer` function with various questions and contexts."
      ],
      "metadata": {
        "id": "Ssy64mEjdy7M"
      }
    },
    {
      "cell_type": "code",
      "execution_count": null,
      "metadata": {
        "colab": {
          "base_uri": "https://localhost:8080/"
        },
        "id": "cva9pzSfccwG",
        "outputId": "739f7400-b51f-41ce-d2a7-e4d5bdcd80d6"
      },
      "outputs": [
        {
          "output_type": "stream",
          "name": "stderr",
          "text": [
            "Token indices sequence length is longer than the specified maximum sequence length for this model (714 > 512). Running this sequence through the model will result in indexing errors\n"
          ]
        },
        {
          "output_type": "execute_result",
          "data": {
            "text/plain": [
              "(None, 0.9988429546356201)"
            ]
          },
          "metadata": {},
          "execution_count": 48
        }
      ],
      "source": [
        "# Defining a new context and predicting answers to some questions\n",
        "context = \"\"\"Coffee is a beverage brewed from roasted coffee beans. Darkly colored, bitter, and slightly acidic, coffee has a stimulating effect on humans, primarily due to its caffeine content. It has the highest sales in the world market for hot drinks.[2]\n",
        "\n",
        "The seeds of the Coffea plant's fruits are separated to produce unroasted green coffee beans. The beans are roasted and then ground into fine particles typically steeped in hot water before being filtered out, producing a cup of coffee. It is usually served hot, although chilled or iced coffee is common. Coffee can be prepared and presented in a variety of ways (e.g., espresso, French press, caffè latte, or already-brewed canned coffee). Sugar, sugar substitutes, milk, and cream are often added to mask the bitter taste or enhance the flavor.\n",
        "\n",
        "Though coffee is now a global commodity, it has a long history tied closely to food traditions around the Red Sea. The earliest credible evidence of coffee drinking as the modern beverage appears in modern-day Yemen in southern Arabia in the middle of the 15th century in Sufi shrines, where coffee seeds were first roasted and brewed in a manner similar to how it is now prepared for drinking.[3] The coffee beans were procured by the Yemenis from the Ethiopian Highlands via coastal Somali intermediaries, and cultivated in Yemen. By the 16th century, the drink had reached the rest of the Middle East and North Africa, later spreading to Europe.\n",
        "\n",
        "The two most commonly grown coffee bean types are C. arabica and C. robusta.[4] Coffee plants are cultivated in over 70 countries, primarily in the equatorial regions of the Americas, Southeast Asia, the Indian subcontinent, and Africa. As of 2023, Brazil was the leading grower of coffee beans, producing 35% of the world's total. Green, unroasted coffee is traded as an agricultural commodity. Despite sales of coffee reaching billions of dollars worldwide, farmers producing coffee beans disproportionately live in poverty. Critics of the coffee industry have also pointed to its negative impact on the environment and the clearing of land for coffee-growing and water use. The global coffee industry is massive and worth $495.50 billion as of 2023.[5] Brazil, Vietnam, and Colombia are the top exporters of coffee beans as of 2023. \\n Rapid growth in coffee production in South America during the second half of the 19th century was matched by an increase in consumption in developed countries, though nowhere has this growth been as pronounced as in the United States, where a high rate of population growth was compounded by doubling of per capita consumption between 1860 and 1920. Though the United States was not the heaviest coffee-drinking nation at the time (Belgium, the Netherlands and Nordic countries all had comparable or higher levels of per capita consumption), due to its sheer size, it was already the largest consumer of coffee in the world by 1860, and, by 1920, around half of all coffee produced worldwide was consumed in the US.[37]\n",
        "\n",
        "Coffee has become a vital cash crop for many developing countries. Over one hundred million people in developing countries have become dependent on coffee as their primary source of income. It has become the primary export and economic backbone for African countries like Uganda, Burundi, Rwanda, and Ethiopia,[40] as well as many Central American countries.\n",
        "\n",
        "\"\"\"\n",
        "\n",
        "len(tokenizer.tokenize(context))\n",
        "predict_answer(context, \"What is coffee?\")\n",
        "predict_answer(context, \"What are the most common coffee beans?\")\n",
        "predict_answer(context, \"How can I make ice coffee?\")\n",
        "predict_answer(context[4000:], \"How many people are dependent on coffee for their income?\")\n"
      ]
    },
    {
      "cell_type": "code",
      "source": [
        "len(tokenizer.tokenize(context))\n"
      ],
      "metadata": {
        "colab": {
          "base_uri": "https://localhost:8080/"
        },
        "id": "KCIisY9A_AhU",
        "outputId": "61dba251-fe26-4bfc-cde3-a7b6de40b8b3"
      },
      "execution_count": null,
      "outputs": [
        {
          "output_type": "execute_result",
          "data": {
            "text/plain": [
              "714"
            ]
          },
          "metadata": {},
          "execution_count": 49
        }
      ]
    },
    {
      "cell_type": "code",
      "source": [
        "predict_answer(context, \"What is coffee?\")\n"
      ],
      "metadata": {
        "colab": {
          "base_uri": "https://localhost:8080/"
        },
        "id": "vY1KdOF4_ArE",
        "outputId": "10883b5f-c1ba-4a53-f39d-e5af951bddff"
      },
      "execution_count": null,
      "outputs": [
        {
          "output_type": "execute_result",
          "data": {
            "text/plain": [
              "('a beverage brewed from roasted coffee beans', 0.814056396484375)"
            ]
          },
          "metadata": {},
          "execution_count": 50
        }
      ]
    },
    {
      "cell_type": "code",
      "source": [
        "predict_answer(context, \"What are the most common coffee beans?\")\n"
      ],
      "metadata": {
        "colab": {
          "base_uri": "https://localhost:8080/"
        },
        "id": "StW1YD42_A1A",
        "outputId": "f1e50923-6d73-4278-9cdc-9e687d14dfca"
      },
      "execution_count": null,
      "outputs": [
        {
          "output_type": "execute_result",
          "data": {
            "text/plain": [
              "('C. arabica and C. robusta', 0.9379842877388)"
            ]
          },
          "metadata": {},
          "execution_count": 51
        }
      ]
    },
    {
      "cell_type": "code",
      "source": [
        "predict_answer(context, \"Tell me what do you know about the most used coffee beans?\")"
      ],
      "metadata": {
        "colab": {
          "base_uri": "https://localhost:8080/"
        },
        "id": "Gh0y0cHA_i1h",
        "outputId": "a9554675-d8f0-4577-8d62-8576af7472f9"
      },
      "execution_count": null,
      "outputs": [
        {
          "output_type": "execute_result",
          "data": {
            "text/plain": [
              "('C. arabica and C. robusta', 0.46422529220581055)"
            ]
          },
          "metadata": {},
          "execution_count": 52
        }
      ]
    },
    {
      "cell_type": "code",
      "source": [
        "# predict_answer(context, \"names of some coffee beans?\")\n"
      ],
      "metadata": {
        "id": "FYM_DEuUABDj"
      },
      "execution_count": null,
      "outputs": []
    },
    {
      "cell_type": "code",
      "source": [
        "predict_answer(context, \"How can I make ice coffee?\")\n"
      ],
      "metadata": {
        "colab": {
          "base_uri": "https://localhost:8080/"
        },
        "id": "3MQh-kQo_BQ5",
        "outputId": "08fade27-4ab7-4118-c102-9284baf07e0d"
      },
      "execution_count": null,
      "outputs": [
        {
          "output_type": "execute_result",
          "data": {
            "text/plain": [
              "(None, 0.9901087284088135)"
            ]
          },
          "metadata": {},
          "execution_count": 54
        }
      ]
    },
    {
      "cell_type": "code",
      "source": [
        "predict_answer(context[4000:], \"How many people are dependent on coffee for their income?\")\n"
      ],
      "metadata": {
        "colab": {
          "base_uri": "https://localhost:8080/"
        },
        "id": "j--MTTug_ird",
        "outputId": "7fd93126-df27-433a-d403-c2a3b9426a0e"
      },
      "execution_count": null,
      "outputs": [
        {
          "output_type": "execute_result",
          "data": {
            "text/plain": [
              "(None, 0.9988429546356201)"
            ]
          },
          "metadata": {},
          "execution_count": 55
        }
      ]
    },
    {
      "cell_type": "code",
      "source": [],
      "metadata": {
        "id": "Bn3aBvUiDT-2"
      },
      "execution_count": null,
      "outputs": []
    },
    {
      "cell_type": "code",
      "execution_count": null,
      "metadata": {
        "id": "fUFDesYXccwG"
      },
      "outputs": [],
      "source": [
        "# Defining a function to chunk sentences\n",
        "def chunk_sentences(sentences, chunk_size, stride):\n",
        "    chunks = []\n",
        "    num_sentences = len(sentences)\n",
        "    for i in range(0, num_sentences, chunk_size - stride):\n",
        "        chunk = sentences[i: i + chunk_size]\n",
        "        chunks.append(chunk)\n",
        "    return chunks"
      ]
    },
    {
      "cell_type": "code",
      "execution_count": null,
      "metadata": {
        "colab": {
          "base_uri": "https://localhost:8080/"
        },
        "id": "C3M7PeguccwG",
        "outputId": "192212eb-221e-4be0-a398-3f77eae59647"
      },
      "outputs": [
        {
          "output_type": "stream",
          "name": "stdout",
          "text": [
            "{'What is coffee?': ('a beverage brewed from roasted coffee beans', 0.9282469749450684), 'What are the most common coffee beans?': ('C. arabica and C. robusta', 0.9481030106544495), 'How many people are dependent on coffee for their income?': ('Over one hundred million', 0.8877787590026855)}\n"
          ]
        }
      ],
      "source": [
        "sentences = [\n",
        "    \"Sentence 1.\",\n",
        "    \"Sentence 2.\",\n",
        "    \"Sentence 3.\",\n",
        "    \"Sentence 4.\",\n",
        "    \"Sentence 5.\",\n",
        "    \"Sentence 6.\",\n",
        "    \"Sentence 7.\",\n",
        "    \"Sentence 8.\",\n",
        "    \"Sentence 9.\",\n",
        "    \"Sentence 10.\"\n",
        "]\n",
        "\n",
        "\n",
        "sentences = context.split(\"\\n\")\n",
        "chunked_sentences = chunk_sentences(sentences, chunk_size=3, stride=1)\n",
        "\n",
        "\n",
        "questions = [\"What is coffee?\", \"What are the most common coffee beans?\", \"How can I make ice coffee?\", \"How many people are dependent on coffee for their income?\"]\n",
        "\n",
        "answers = {}\n",
        "\n",
        "for chunk in chunked_sentences:\n",
        "    sub_context = \"\\n\".join(chunk)\n",
        "    for question in questions:\n",
        "        answer, score = predict_answer(sub_context, question)\n",
        "\n",
        "        if answer:\n",
        "            if question not in answers:\n",
        "                answers[question] = (answer, score)\n",
        "            else:\n",
        "                if score > answers[question][1]:\n",
        "                    answers[question] = (answer, score)\n",
        "\n",
        "print(answers)"
      ]
    },
    {
      "cell_type": "code",
      "source": [
        "sentences = [\n",
        "    \"Coffee is a beverage brewed from roasted coffee beans.\",\n",
        "    \"Darkly colored, bitter, and slightly acidic, coffee has a stimulating effect on humans, primarily due to its caffeine content.\",\n",
        "    \"It has the highest sales in the world market for hot drinks.\",\n",
        "    \"The seeds of the Coffea plant's fruits are separated to produce unroasted green coffee beans.\",\n",
        "    \"The beans are roasted and then ground into fine particles typically steeped in hot water before being filtered out, producing a cup of coffee.\",\n",
        "    \"Rapid growth in coffee production in South America during the second half of the 19th century was matched by an increase in consumption in developed countries, though nowhere has this growth been as pronounced as in the United States, where a high rate of population growth was compounded by doubling of per capita consumption between 1860 and 1920.\",\n",
        "    \"Though the United States was not the heaviest coffee-drinking nation at the time (Belgium, the Netherlands and Nordic countries all had comparable or higher levels of per capita consumption), due to its sheer size, it was already the largest consumer of coffee in the world by 1860, and, by 1920, around half of all coffee produced worldwide was consumed in the US.\",\n",
        "    \"Coffee has become a vital cash crop for many developing countries.\",\n",
        "    \"Over one hundred million people in developing countries have become dependent on coffee as their primary source of income.\",\n",
        "    \"It has become the primary export and economic backbone for African countries like Uganda, Burundi, Rwanda, and Ethiopia, as well as many Central American countries.\"\n",
        "]\n"
      ],
      "metadata": {
        "id": "6ob9nFigFIqB"
      },
      "execution_count": null,
      "outputs": []
    },
    {
      "cell_type": "code",
      "source": [
        "chunked_sentences = chunk_sentences(sentences, chunk_size=3, stride=1)\n",
        "chunked_sentences"
      ],
      "metadata": {
        "colab": {
          "base_uri": "https://localhost:8080/"
        },
        "collapsed": true,
        "id": "WsopoXXQEykL",
        "outputId": "a16fb93e-5ca3-47bd-c093-935fb1de8c89"
      },
      "execution_count": null,
      "outputs": [
        {
          "output_type": "execute_result",
          "data": {
            "text/plain": [
              "[['Coffee is a beverage brewed from roasted coffee beans.',\n",
              "  'Darkly colored, bitter, and slightly acidic, coffee has a stimulating effect on humans, primarily due to its caffeine content.',\n",
              "  'It has the highest sales in the world market for hot drinks.'],\n",
              " ['It has the highest sales in the world market for hot drinks.',\n",
              "  \"The seeds of the Coffea plant's fruits are separated to produce unroasted green coffee beans.\",\n",
              "  'The beans are roasted and then ground into fine particles typically steeped in hot water before being filtered out, producing a cup of coffee.'],\n",
              " ['The beans are roasted and then ground into fine particles typically steeped in hot water before being filtered out, producing a cup of coffee.',\n",
              "  'Rapid growth in coffee production in South America during the second half of the 19th century was matched by an increase in consumption in developed countries, though nowhere has this growth been as pronounced as in the United States, where a high rate of population growth was compounded by doubling of per capita consumption between 1860 and 1920.',\n",
              "  'Though the United States was not the heaviest coffee-drinking nation at the time (Belgium, the Netherlands and Nordic countries all had comparable or higher levels of per capita consumption), due to its sheer size, it was already the largest consumer of coffee in the world by 1860, and, by 1920, around half of all coffee produced worldwide was consumed in the US.'],\n",
              " ['Though the United States was not the heaviest coffee-drinking nation at the time (Belgium, the Netherlands and Nordic countries all had comparable or higher levels of per capita consumption), due to its sheer size, it was already the largest consumer of coffee in the world by 1860, and, by 1920, around half of all coffee produced worldwide was consumed in the US.',\n",
              "  'Coffee has become a vital cash crop for many developing countries.',\n",
              "  'Over one hundred million people in developing countries have become dependent on coffee as their primary source of income.'],\n",
              " ['Over one hundred million people in developing countries have become dependent on coffee as their primary source of income.',\n",
              "  'It has become the primary export and economic backbone for African countries like Uganda, Burundi, Rwanda, and Ethiopia, as well as many Central American countries.']]"
            ]
          },
          "metadata": {},
          "execution_count": 59
        }
      ]
    },
    {
      "cell_type": "code",
      "source": [
        "sentences = [\n",
        "    \"Sentence 1.\",\n",
        "    \"Sentence 2.\",\n",
        "    \"Sentence 3.\",\n",
        "    \"Sentence 4.\",\n",
        "    \"Sentence 5.\",\n",
        "    \"Sentence 6.\",\n",
        "    \"Sentence 7.\",\n",
        "    \"Sentence 8.\",\n",
        "    \"Sentence 9.\",\n",
        "    \"Sentence 10.\"\n",
        "]\n",
        "\n",
        "chunked_sentences = chunk_sentences(sentences, chunk_size=3, stride=1)"
      ],
      "metadata": {
        "id": "G9bF7qFTFQqU"
      },
      "execution_count": null,
      "outputs": []
    },
    {
      "cell_type": "code",
      "source": [
        "chunked_sentences"
      ],
      "metadata": {
        "colab": {
          "base_uri": "https://localhost:8080/"
        },
        "id": "rFvvZxucG0rg",
        "outputId": "fad2ddf3-8e21-4497-8d5c-9b9fa4014503"
      },
      "execution_count": null,
      "outputs": [
        {
          "output_type": "execute_result",
          "data": {
            "text/plain": [
              "[['Sentence 1.', 'Sentence 2.', 'Sentence 3.'],\n",
              " ['Sentence 3.', 'Sentence 4.', 'Sentence 5.'],\n",
              " ['Sentence 5.', 'Sentence 6.', 'Sentence 7.'],\n",
              " ['Sentence 7.', 'Sentence 8.', 'Sentence 9.'],\n",
              " ['Sentence 9.', 'Sentence 10.']]"
            ]
          },
          "metadata": {},
          "execution_count": 61
        }
      ]
    },
    {
      "cell_type": "code",
      "source": [],
      "metadata": {
        "id": "SU-mz0WYG5Pw"
      },
      "execution_count": null,
      "outputs": []
    },
    {
      "cell_type": "code",
      "source": [],
      "metadata": {
        "id": "A_FOox01HEXn"
      },
      "execution_count": null,
      "outputs": []
    },
    {
      "cell_type": "code",
      "source": [],
      "metadata": {
        "id": "ZXlhlTh3HE4u"
      },
      "execution_count": null,
      "outputs": []
    },
    {
      "cell_type": "code",
      "source": [],
      "metadata": {
        "id": "UIb8WRjmHE_n"
      },
      "execution_count": null,
      "outputs": []
    },
    {
      "cell_type": "code",
      "source": [],
      "metadata": {
        "id": "JYewuoReHFBL"
      },
      "execution_count": null,
      "outputs": []
    },
    {
      "cell_type": "code",
      "source": [],
      "metadata": {
        "id": "glS9A9JwHFFO"
      },
      "execution_count": null,
      "outputs": []
    },
    {
      "cell_type": "code",
      "source": [],
      "metadata": {
        "id": "dSZF4FYuHFHG"
      },
      "execution_count": null,
      "outputs": []
    }
  ],
  "nbformat": 4,
  "nbformat_minor": 0,
  "metadata": {
    "language_info": {
      "name": "python"
    },
    "orig_nbformat": 4,
    "colab": {
      "provenance": []
    },
    "kernelspec": {
      "name": "python3",
      "display_name": "Python 3"
    }
  }
}