{
  "cells": [
    {
      "cell_type": "code",
      "execution_count": 1,
      "id": "47986aed",
      "metadata": {
        "id": "47986aed"
      },
      "outputs": [],
      "source": [
        "import numpy as np\n",
        "from tensorflow.keras.preprocessing.text import one_hot\n",
        "from tensorflow.keras.preprocessing.sequence import pad_sequences\n",
        "from tensorflow.keras.models import Sequential\n",
        "from tensorflow.keras.layers import Dense\n",
        "from tensorflow.keras.layers import Flatten\n",
        "from tensorflow.keras.layers import Embedding"
      ]
    },
    {
      "cell_type": "code",
      "execution_count": 2,
      "id": "6ed98a7b",
      "metadata": {
        "id": "6ed98a7b"
      },
      "outputs": [],
      "source": [
        "reviews = [\n",
        "    'nice food',\n",
        "    'amazing restaurant',\n",
        "    'too good',\n",
        "    'just loved it!',\n",
        "    'will go again',\n",
        "    'horrible food',\n",
        "    'never go there',\n",
        "    'poor service',\n",
        "    'poor quality',\n",
        "    'needs improvement'\n",
        "]\n",
        "\n",
        "sentiment = np.array([1,1,1,1,1,0,0,0,0,0])"
      ]
    },
    {
      "cell_type": "code",
      "execution_count": 3,
      "id": "57ddaa60",
      "metadata": {
        "colab": {
          "base_uri": "https://localhost:8080/"
        },
        "id": "57ddaa60",
        "outputId": "7782778f-9ddc-418c-a230-9cb7447e44be"
      },
      "outputs": [
        {
          "output_type": "execute_result",
          "data": {
            "text/plain": [
              "[9, 27]"
            ]
          },
          "metadata": {},
          "execution_count": 3
        }
      ],
      "source": [
        "one_hot('amazing restaurant', 30)"
      ]
    },
    {
      "cell_type": "code",
      "execution_count": 4,
      "id": "cfd86e97",
      "metadata": {
        "id": "cfd86e97"
      },
      "outputs": [],
      "source": [
        "vocab_size = 30\n",
        "encoded_reviews = [one_hot(review, vocab_size) for review in reviews]"
      ]
    },
    {
      "cell_type": "code",
      "execution_count": 5,
      "id": "b3505d37",
      "metadata": {
        "colab": {
          "base_uri": "https://localhost:8080/"
        },
        "id": "b3505d37",
        "outputId": "05ec508b-1ba9-4a16-d6dc-fb6521d2ddd6"
      },
      "outputs": [
        {
          "output_type": "execute_result",
          "data": {
            "text/plain": [
              "[[9, 20],\n",
              " [9, 27],\n",
              " [1, 3],\n",
              " [10, 28, 23],\n",
              " [4, 24, 23],\n",
              " [27, 20],\n",
              " [12, 24, 16],\n",
              " [13, 4],\n",
              " [13, 3],\n",
              " [6, 27]]"
            ]
          },
          "metadata": {},
          "execution_count": 5
        }
      ],
      "source": [
        "(encoded_reviews)"
      ]
    },
    {
      "cell_type": "code",
      "execution_count": 6,
      "id": "03049b2d",
      "metadata": {
        "colab": {
          "base_uri": "https://localhost:8080/"
        },
        "id": "03049b2d",
        "outputId": "3c9a40ba-0e74-4d26-94ed-306456a80f73"
      },
      "outputs": [
        {
          "output_type": "execute_result",
          "data": {
            "text/plain": [
              "array([[ 9, 20,  0],\n",
              "       [ 9, 27,  0],\n",
              "       [ 1,  3,  0],\n",
              "       [10, 28, 23],\n",
              "       [ 4, 24, 23],\n",
              "       [27, 20,  0],\n",
              "       [12, 24, 16],\n",
              "       [13,  4,  0],\n",
              "       [13,  3,  0],\n",
              "       [ 6, 27,  0]], dtype=int32)"
            ]
          },
          "metadata": {},
          "execution_count": 6
        }
      ],
      "source": [
        "max_length = 3\n",
        "padded_reviews = pad_sequences(encoded_reviews, maxlen = max_length, padding='post')\n",
        "padded_reviews"
      ]
    },
    {
      "cell_type": "code",
      "execution_count": 7,
      "id": "5ff0d7da",
      "metadata": {
        "id": "5ff0d7da"
      },
      "outputs": [],
      "source": [
        "embedded_vector_size = 4\n",
        "\n",
        "model = Sequential()\n",
        "model.add(Embedding(vocab_size, embedded_vector_size, input_length=max_length, name = 'embedding'))\n",
        "model.add(Flatten())\n",
        "model.add(Dense(1, activation='sigmoid'))"
      ]
    },
    {
      "cell_type": "code",
      "execution_count": 8,
      "id": "e79fdf49",
      "metadata": {
        "id": "e79fdf49"
      },
      "outputs": [],
      "source": [
        "x = padded_reviews\n",
        "y = sentiment"
      ]
    },
    {
      "cell_type": "code",
      "execution_count": 9,
      "id": "3d5fc4fa",
      "metadata": {
        "id": "3d5fc4fa"
      },
      "outputs": [],
      "source": [
        "model.compile(optimizer='adam', loss='binary_crossentropy', metrics=['accuracy'])"
      ]
    },
    {
      "cell_type": "code",
      "execution_count": 10,
      "id": "67736e6b",
      "metadata": {
        "colab": {
          "base_uri": "https://localhost:8080/"
        },
        "id": "67736e6b",
        "outputId": "f994f519-6454-4862-ab73-3e4c66d6212d"
      },
      "outputs": [
        {
          "output_type": "stream",
          "name": "stdout",
          "text": [
            "Model: \"sequential\"\n",
            "_________________________________________________________________\n",
            " Layer (type)                Output Shape              Param #   \n",
            "=================================================================\n",
            " embedding (Embedding)       (None, 3, 4)              120       \n",
            "                                                                 \n",
            " flatten (Flatten)           (None, 12)                0         \n",
            "                                                                 \n",
            " dense (Dense)               (None, 1)                 13        \n",
            "                                                                 \n",
            "=================================================================\n",
            "Total params: 133 (532.00 Byte)\n",
            "Trainable params: 133 (532.00 Byte)\n",
            "Non-trainable params: 0 (0.00 Byte)\n",
            "_________________________________________________________________\n"
          ]
        }
      ],
      "source": [
        "model.summary()"
      ]
    },
    {
      "cell_type": "code",
      "execution_count": 11,
      "id": "bfa58a13",
      "metadata": {
        "colab": {
          "base_uri": "https://localhost:8080/"
        },
        "id": "bfa58a13",
        "outputId": "ff83414a-d67b-4355-d70e-b0cff72b44c3"
      },
      "outputs": [
        {
          "output_type": "execute_result",
          "data": {
            "text/plain": [
              "<keras.src.callbacks.History at 0x7b623a0f3a30>"
            ]
          },
          "metadata": {},
          "execution_count": 11
        }
      ],
      "source": [
        "model.fit(x, y, epochs=50, verbose=0)"
      ]
    },
    {
      "cell_type": "code",
      "execution_count": 12,
      "id": "f391e1e3",
      "metadata": {
        "colab": {
          "base_uri": "https://localhost:8080/"
        },
        "id": "f391e1e3",
        "outputId": "28bc1607-3a38-4a54-897c-17f169a12f47"
      },
      "outputs": [
        {
          "output_type": "stream",
          "name": "stdout",
          "text": [
            "1/1 [==============================] - 0s 273ms/step - loss: 0.6386 - accuracy: 1.0000\n"
          ]
        },
        {
          "output_type": "execute_result",
          "data": {
            "text/plain": [
              "[0.6386319398880005, 1.0]"
            ]
          },
          "metadata": {},
          "execution_count": 12
        }
      ],
      "source": [
        "model.evaluate(x, y)"
      ]
    },
    {
      "cell_type": "code",
      "execution_count": 16,
      "id": "eaa8fab6",
      "metadata": {
        "colab": {
          "base_uri": "https://localhost:8080/"
        },
        "id": "eaa8fab6",
        "outputId": "1aa2c38b-64be-45be-94ee-cae7c2d8c1e5"
      },
      "outputs": [
        {
          "output_type": "execute_result",
          "data": {
            "text/plain": [
              "array([[-0.01298449, -0.0629551 , -0.06572203, -0.01113882],\n",
              "       [ 0.02050567, -0.03749892,  0.09588233,  0.00281243],\n",
              "       [ 0.04991392, -0.02189717,  0.0276388 , -0.01709844],\n",
              "       [-0.00984523,  0.0643878 , -0.0660213 ,  0.01864441],\n",
              "       [ 0.02388978, -0.07805772,  0.07360906,  0.08599759],\n",
              "       [ 0.04083847,  0.00055727, -0.04908545, -0.04182924],\n",
              "       [-0.06146505,  0.03711106, -0.03782729, -0.07597476],\n",
              "       [-0.04521251,  0.02849311,  0.01916343, -0.00050646],\n",
              "       [ 0.04096884,  0.01087694,  0.00495581,  0.00992506],\n",
              "       [ 0.08535507, -0.08112686,  0.04475335,  0.06915266],\n",
              "       [ 0.08959837, -0.02920884,  0.01154487,  0.08588198],\n",
              "       [-0.01798784, -0.02722238,  0.02043276, -0.01088412],\n",
              "       [-0.03321709,  0.06686334, -0.02333862, -0.08892013],\n",
              "       [-0.05316615,  0.0109989 , -0.09899928, -0.05828485],\n",
              "       [ 0.02212257, -0.00989001,  0.00642797, -0.01084992],\n",
              "       [ 0.0172602 ,  0.02330175,  0.02899529,  0.02033087],\n",
              "       [-0.06076271, -0.05390294, -0.09195288, -0.07339711],\n",
              "       [ 0.02218319, -0.00929495,  0.0078207 ,  0.01157081],\n",
              "       [ 0.03910916,  0.02234321,  0.0394828 ,  0.04401246],\n",
              "       [ 0.03282228, -0.0356134 , -0.02727875, -0.00092368],\n",
              "       [-0.05173069,  0.07612087, -0.02319779,  0.04063944],\n",
              "       [ 0.00192499, -0.02369417,  0.04229044, -0.02500614],\n",
              "       [ 0.02398839, -0.00016811,  0.03931595, -0.01961221],\n",
              "       [ 0.06756299,  0.07979084,  0.04188606,  0.09631819],\n",
              "       [-0.00460556,  0.00369703,  0.01804395,  0.05874971],\n",
              "       [ 0.02547342,  0.03840283, -0.03683338, -0.04792979],\n",
              "       [-0.00645906, -0.00814333,  0.03043996,  0.00549127],\n",
              "       [-0.09070525,  0.02402575, -0.04753128, -0.0523365 ],\n",
              "       [-0.01421541,  0.02369745, -0.07002277,  0.06707069],\n",
              "       [-0.02116027, -0.04220904, -0.02412853,  0.0078811 ]],\n",
              "      dtype=float32)"
            ]
          },
          "metadata": {},
          "execution_count": 16
        }
      ],
      "source": [
        "model.get_layer('embedding').get_weights()[0]"
      ]
    },
    {
      "cell_type": "code",
      "execution_count": 16,
      "id": "b12e36b6",
      "metadata": {
        "id": "b12e36b6"
      },
      "outputs": [],
      "source": []
    },
    {
      "cell_type": "code",
      "execution_count": 16,
      "id": "23da4d77",
      "metadata": {
        "id": "23da4d77"
      },
      "outputs": [],
      "source": []
    },
    {
      "cell_type": "code",
      "execution_count": 16,
      "id": "5e482e9b",
      "metadata": {
        "id": "5e482e9b"
      },
      "outputs": [],
      "source": [
        "\n",
        "\n"
      ]
    },
    {
      "cell_type": "code",
      "source": [],
      "metadata": {
        "id": "ELEf-TtV9uUT"
      },
      "id": "ELEf-TtV9uUT",
      "execution_count": 16,
      "outputs": []
    }
  ],
  "metadata": {
    "kernelspec": {
      "display_name": "Python 3 (ipykernel)",
      "language": "python",
      "name": "python3"
    },
    "language_info": {
      "codemirror_mode": {
        "name": "ipython",
        "version": 3
      },
      "file_extension": ".py",
      "mimetype": "text/x-python",
      "name": "python",
      "nbconvert_exporter": "python",
      "pygments_lexer": "ipython3",
      "version": "3.11.5"
    },
    "colab": {
      "provenance": []
    }
  },
  "nbformat": 4,
  "nbformat_minor": 5
}