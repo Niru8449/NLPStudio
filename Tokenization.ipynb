{
  "cells": [
    {
      "cell_type": "code",
      "source": [
        "!pip install tensorflow==2.9.1\n",
        "!pip install tensorflow-hub==0.12.0\n",
        "!pip install tensorflow-text==2.9.0"
      ],
      "metadata": {
        "colab": {
          "base_uri": "https://localhost:8080/"
        },
        "id": "_j4UFhudCMew",
        "outputId": "8360dd84-0fc1-40da-cf6d-d5c06d74bb32",
        "collapsed": true
      },
      "id": "_j4UFhudCMew",
      "execution_count": 2,
      "outputs": [
        {
          "output_type": "stream",
          "name": "stdout",
          "text": [
            "Collecting tensorflow==2.9.1\n",
            "  Using cached tensorflow-2.9.1-cp310-cp310-manylinux_2_17_x86_64.manylinux2014_x86_64.whl (511.7 MB)\n",
            "Requirement already satisfied: absl-py>=1.0.0 in /usr/local/lib/python3.10/dist-packages (from tensorflow==2.9.1) (1.4.0)\n",
            "Requirement already satisfied: astunparse>=1.6.0 in /usr/local/lib/python3.10/dist-packages (from tensorflow==2.9.1) (1.6.3)\n",
            "Requirement already satisfied: flatbuffers<2,>=1.12 in /usr/local/lib/python3.10/dist-packages (from tensorflow==2.9.1) (1.12)\n",
            "Requirement already satisfied: gast<=0.4.0,>=0.2.1 in /usr/local/lib/python3.10/dist-packages (from tensorflow==2.9.1) (0.4.0)\n",
            "Requirement already satisfied: google-pasta>=0.1.1 in /usr/local/lib/python3.10/dist-packages (from tensorflow==2.9.1) (0.2.0)\n",
            "Requirement already satisfied: grpcio<2.0,>=1.24.3 in /usr/local/lib/python3.10/dist-packages (from tensorflow==2.9.1) (1.64.0)\n",
            "Requirement already satisfied: h5py>=2.9.0 in /usr/local/lib/python3.10/dist-packages (from tensorflow==2.9.1) (3.11.0)\n",
            "Requirement already satisfied: keras<2.10.0,>=2.9.0rc0 in /usr/local/lib/python3.10/dist-packages (from tensorflow==2.9.1) (2.9.0)\n",
            "Requirement already satisfied: keras-preprocessing>=1.1.1 in /usr/local/lib/python3.10/dist-packages (from tensorflow==2.9.1) (1.1.2)\n",
            "Requirement already satisfied: libclang>=13.0.0 in /usr/local/lib/python3.10/dist-packages (from tensorflow==2.9.1) (18.1.1)\n",
            "Requirement already satisfied: numpy>=1.20 in /usr/local/lib/python3.10/dist-packages (from tensorflow==2.9.1) (1.25.2)\n",
            "Requirement already satisfied: opt-einsum>=2.3.2 in /usr/local/lib/python3.10/dist-packages (from tensorflow==2.9.1) (3.3.0)\n",
            "Requirement already satisfied: packaging in /usr/local/lib/python3.10/dist-packages (from tensorflow==2.9.1) (24.0)\n",
            "Requirement already satisfied: protobuf<3.20,>=3.9.2 in /usr/local/lib/python3.10/dist-packages (from tensorflow==2.9.1) (3.19.6)\n",
            "Requirement already satisfied: setuptools in /usr/local/lib/python3.10/dist-packages (from tensorflow==2.9.1) (67.7.2)\n",
            "Requirement already satisfied: six>=1.12.0 in /usr/local/lib/python3.10/dist-packages (from tensorflow==2.9.1) (1.16.0)\n",
            "Requirement already satisfied: tensorboard<2.10,>=2.9 in /usr/local/lib/python3.10/dist-packages (from tensorflow==2.9.1) (2.9.1)\n",
            "Requirement already satisfied: tensorflow-io-gcs-filesystem>=0.23.1 in /usr/local/lib/python3.10/dist-packages (from tensorflow==2.9.1) (0.37.0)\n",
            "Requirement already satisfied: tensorflow-estimator<2.10.0,>=2.9.0rc0 in /usr/local/lib/python3.10/dist-packages (from tensorflow==2.9.1) (2.9.0)\n",
            "Requirement already satisfied: termcolor>=1.1.0 in /usr/local/lib/python3.10/dist-packages (from tensorflow==2.9.1) (2.4.0)\n",
            "Requirement already satisfied: typing-extensions>=3.6.6 in /usr/local/lib/python3.10/dist-packages (from tensorflow==2.9.1) (4.11.0)\n",
            "Requirement already satisfied: wrapt>=1.11.0 in /usr/local/lib/python3.10/dist-packages (from tensorflow==2.9.1) (1.14.1)\n",
            "Requirement already satisfied: wheel<1.0,>=0.23.0 in /usr/local/lib/python3.10/dist-packages (from astunparse>=1.6.0->tensorflow==2.9.1) (0.43.0)\n",
            "Requirement already satisfied: google-auth<3,>=1.6.3 in /usr/local/lib/python3.10/dist-packages (from tensorboard<2.10,>=2.9->tensorflow==2.9.1) (2.27.0)\n",
            "Requirement already satisfied: google-auth-oauthlib<0.5,>=0.4.1 in /usr/local/lib/python3.10/dist-packages (from tensorboard<2.10,>=2.9->tensorflow==2.9.1) (0.4.6)\n",
            "Requirement already satisfied: markdown>=2.6.8 in /usr/local/lib/python3.10/dist-packages (from tensorboard<2.10,>=2.9->tensorflow==2.9.1) (3.6)\n",
            "Requirement already satisfied: requests<3,>=2.21.0 in /usr/local/lib/python3.10/dist-packages (from tensorboard<2.10,>=2.9->tensorflow==2.9.1) (2.31.0)\n",
            "Requirement already satisfied: tensorboard-data-server<0.7.0,>=0.6.0 in /usr/local/lib/python3.10/dist-packages (from tensorboard<2.10,>=2.9->tensorflow==2.9.1) (0.6.1)\n",
            "Requirement already satisfied: tensorboard-plugin-wit>=1.6.0 in /usr/local/lib/python3.10/dist-packages (from tensorboard<2.10,>=2.9->tensorflow==2.9.1) (1.8.1)\n",
            "Requirement already satisfied: werkzeug>=1.0.1 in /usr/local/lib/python3.10/dist-packages (from tensorboard<2.10,>=2.9->tensorflow==2.9.1) (3.0.3)\n",
            "Requirement already satisfied: cachetools<6.0,>=2.0.0 in /usr/local/lib/python3.10/dist-packages (from google-auth<3,>=1.6.3->tensorboard<2.10,>=2.9->tensorflow==2.9.1) (5.3.3)\n",
            "Requirement already satisfied: pyasn1-modules>=0.2.1 in /usr/local/lib/python3.10/dist-packages (from google-auth<3,>=1.6.3->tensorboard<2.10,>=2.9->tensorflow==2.9.1) (0.4.0)\n",
            "Requirement already satisfied: rsa<5,>=3.1.4 in /usr/local/lib/python3.10/dist-packages (from google-auth<3,>=1.6.3->tensorboard<2.10,>=2.9->tensorflow==2.9.1) (4.9)\n",
            "Requirement already satisfied: requests-oauthlib>=0.7.0 in /usr/local/lib/python3.10/dist-packages (from google-auth-oauthlib<0.5,>=0.4.1->tensorboard<2.10,>=2.9->tensorflow==2.9.1) (1.3.1)\n",
            "Requirement already satisfied: charset-normalizer<4,>=2 in /usr/local/lib/python3.10/dist-packages (from requests<3,>=2.21.0->tensorboard<2.10,>=2.9->tensorflow==2.9.1) (3.3.2)\n",
            "Requirement already satisfied: idna<4,>=2.5 in /usr/local/lib/python3.10/dist-packages (from requests<3,>=2.21.0->tensorboard<2.10,>=2.9->tensorflow==2.9.1) (3.7)\n",
            "Requirement already satisfied: urllib3<3,>=1.21.1 in /usr/local/lib/python3.10/dist-packages (from requests<3,>=2.21.0->tensorboard<2.10,>=2.9->tensorflow==2.9.1) (2.0.7)\n",
            "Requirement already satisfied: certifi>=2017.4.17 in /usr/local/lib/python3.10/dist-packages (from requests<3,>=2.21.0->tensorboard<2.10,>=2.9->tensorflow==2.9.1) (2024.2.2)\n",
            "Requirement already satisfied: MarkupSafe>=2.1.1 in /usr/local/lib/python3.10/dist-packages (from werkzeug>=1.0.1->tensorboard<2.10,>=2.9->tensorflow==2.9.1) (2.1.5)\n",
            "Requirement already satisfied: pyasn1<0.7.0,>=0.4.6 in /usr/local/lib/python3.10/dist-packages (from pyasn1-modules>=0.2.1->google-auth<3,>=1.6.3->tensorboard<2.10,>=2.9->tensorflow==2.9.1) (0.6.0)\n",
            "Requirement already satisfied: oauthlib>=3.0.0 in /usr/local/lib/python3.10/dist-packages (from requests-oauthlib>=0.7.0->google-auth-oauthlib<0.5,>=0.4.1->tensorboard<2.10,>=2.9->tensorflow==2.9.1) (3.2.2)\n",
            "Installing collected packages: tensorflow\n",
            "\u001b[31mERROR: pip's dependency resolver does not currently take into account all the packages that are installed. This behaviour is the source of the following dependency conflicts.\n",
            "tf-keras 2.15.1 requires tensorflow<2.16,>=2.15, but you have tensorflow 2.9.1 which is incompatible.\u001b[0m\u001b[31m\n",
            "\u001b[0mSuccessfully installed tensorflow-2.9.1\n",
            "Collecting tensorflow-hub==0.12.0\n",
            "  Using cached tensorflow_hub-0.12.0-py2.py3-none-any.whl (108 kB)\n",
            "Requirement already satisfied: numpy>=1.12.0 in /usr/local/lib/python3.10/dist-packages (from tensorflow-hub==0.12.0) (1.25.2)\n",
            "Requirement already satisfied: protobuf>=3.8.0 in /usr/local/lib/python3.10/dist-packages (from tensorflow-hub==0.12.0) (3.19.6)\n",
            "Installing collected packages: tensorflow-hub\n",
            "Successfully installed tensorflow-hub-0.12.0\n",
            "Collecting tensorflow-text==2.9.0\n",
            "  Using cached tensorflow_text-2.9.0-cp310-cp310-manylinux_2_17_x86_64.manylinux2014_x86_64.whl (4.6 MB)\n",
            "Requirement already satisfied: tensorflow-hub>=0.8.0 in /usr/local/lib/python3.10/dist-packages (from tensorflow-text==2.9.0) (0.12.0)\n",
            "Requirement already satisfied: tensorflow<2.10,>=2.9.0 in /usr/local/lib/python3.10/dist-packages (from tensorflow-text==2.9.0) (2.9.1)\n",
            "Requirement already satisfied: absl-py>=1.0.0 in /usr/local/lib/python3.10/dist-packages (from tensorflow<2.10,>=2.9.0->tensorflow-text==2.9.0) (1.4.0)\n",
            "Requirement already satisfied: astunparse>=1.6.0 in /usr/local/lib/python3.10/dist-packages (from tensorflow<2.10,>=2.9.0->tensorflow-text==2.9.0) (1.6.3)\n",
            "Requirement already satisfied: flatbuffers<2,>=1.12 in /usr/local/lib/python3.10/dist-packages (from tensorflow<2.10,>=2.9.0->tensorflow-text==2.9.0) (1.12)\n",
            "Requirement already satisfied: gast<=0.4.0,>=0.2.1 in /usr/local/lib/python3.10/dist-packages (from tensorflow<2.10,>=2.9.0->tensorflow-text==2.9.0) (0.4.0)\n",
            "Requirement already satisfied: google-pasta>=0.1.1 in /usr/local/lib/python3.10/dist-packages (from tensorflow<2.10,>=2.9.0->tensorflow-text==2.9.0) (0.2.0)\n",
            "Requirement already satisfied: grpcio<2.0,>=1.24.3 in /usr/local/lib/python3.10/dist-packages (from tensorflow<2.10,>=2.9.0->tensorflow-text==2.9.0) (1.64.0)\n",
            "Requirement already satisfied: h5py>=2.9.0 in /usr/local/lib/python3.10/dist-packages (from tensorflow<2.10,>=2.9.0->tensorflow-text==2.9.0) (3.11.0)\n",
            "Requirement already satisfied: keras<2.10.0,>=2.9.0rc0 in /usr/local/lib/python3.10/dist-packages (from tensorflow<2.10,>=2.9.0->tensorflow-text==2.9.0) (2.9.0)\n",
            "Requirement already satisfied: keras-preprocessing>=1.1.1 in /usr/local/lib/python3.10/dist-packages (from tensorflow<2.10,>=2.9.0->tensorflow-text==2.9.0) (1.1.2)\n",
            "Requirement already satisfied: libclang>=13.0.0 in /usr/local/lib/python3.10/dist-packages (from tensorflow<2.10,>=2.9.0->tensorflow-text==2.9.0) (18.1.1)\n",
            "Requirement already satisfied: numpy>=1.20 in /usr/local/lib/python3.10/dist-packages (from tensorflow<2.10,>=2.9.0->tensorflow-text==2.9.0) (1.25.2)\n",
            "Requirement already satisfied: opt-einsum>=2.3.2 in /usr/local/lib/python3.10/dist-packages (from tensorflow<2.10,>=2.9.0->tensorflow-text==2.9.0) (3.3.0)\n",
            "Requirement already satisfied: packaging in /usr/local/lib/python3.10/dist-packages (from tensorflow<2.10,>=2.9.0->tensorflow-text==2.9.0) (24.0)\n",
            "Requirement already satisfied: protobuf<3.20,>=3.9.2 in /usr/local/lib/python3.10/dist-packages (from tensorflow<2.10,>=2.9.0->tensorflow-text==2.9.0) (3.19.6)\n",
            "Requirement already satisfied: setuptools in /usr/local/lib/python3.10/dist-packages (from tensorflow<2.10,>=2.9.0->tensorflow-text==2.9.0) (67.7.2)\n",
            "Requirement already satisfied: six>=1.12.0 in /usr/local/lib/python3.10/dist-packages (from tensorflow<2.10,>=2.9.0->tensorflow-text==2.9.0) (1.16.0)\n",
            "Requirement already satisfied: tensorboard<2.10,>=2.9 in /usr/local/lib/python3.10/dist-packages (from tensorflow<2.10,>=2.9.0->tensorflow-text==2.9.0) (2.9.1)\n",
            "Requirement already satisfied: tensorflow-io-gcs-filesystem>=0.23.1 in /usr/local/lib/python3.10/dist-packages (from tensorflow<2.10,>=2.9.0->tensorflow-text==2.9.0) (0.37.0)\n",
            "Requirement already satisfied: tensorflow-estimator<2.10.0,>=2.9.0rc0 in /usr/local/lib/python3.10/dist-packages (from tensorflow<2.10,>=2.9.0->tensorflow-text==2.9.0) (2.9.0)\n",
            "Requirement already satisfied: termcolor>=1.1.0 in /usr/local/lib/python3.10/dist-packages (from tensorflow<2.10,>=2.9.0->tensorflow-text==2.9.0) (2.4.0)\n",
            "Requirement already satisfied: typing-extensions>=3.6.6 in /usr/local/lib/python3.10/dist-packages (from tensorflow<2.10,>=2.9.0->tensorflow-text==2.9.0) (4.11.0)\n",
            "Requirement already satisfied: wrapt>=1.11.0 in /usr/local/lib/python3.10/dist-packages (from tensorflow<2.10,>=2.9.0->tensorflow-text==2.9.0) (1.14.1)\n",
            "Requirement already satisfied: wheel<1.0,>=0.23.0 in /usr/local/lib/python3.10/dist-packages (from astunparse>=1.6.0->tensorflow<2.10,>=2.9.0->tensorflow-text==2.9.0) (0.43.0)\n",
            "Requirement already satisfied: google-auth<3,>=1.6.3 in /usr/local/lib/python3.10/dist-packages (from tensorboard<2.10,>=2.9->tensorflow<2.10,>=2.9.0->tensorflow-text==2.9.0) (2.27.0)\n",
            "Requirement already satisfied: google-auth-oauthlib<0.5,>=0.4.1 in /usr/local/lib/python3.10/dist-packages (from tensorboard<2.10,>=2.9->tensorflow<2.10,>=2.9.0->tensorflow-text==2.9.0) (0.4.6)\n",
            "Requirement already satisfied: markdown>=2.6.8 in /usr/local/lib/python3.10/dist-packages (from tensorboard<2.10,>=2.9->tensorflow<2.10,>=2.9.0->tensorflow-text==2.9.0) (3.6)\n",
            "Requirement already satisfied: requests<3,>=2.21.0 in /usr/local/lib/python3.10/dist-packages (from tensorboard<2.10,>=2.9->tensorflow<2.10,>=2.9.0->tensorflow-text==2.9.0) (2.31.0)\n",
            "Requirement already satisfied: tensorboard-data-server<0.7.0,>=0.6.0 in /usr/local/lib/python3.10/dist-packages (from tensorboard<2.10,>=2.9->tensorflow<2.10,>=2.9.0->tensorflow-text==2.9.0) (0.6.1)\n",
            "Requirement already satisfied: tensorboard-plugin-wit>=1.6.0 in /usr/local/lib/python3.10/dist-packages (from tensorboard<2.10,>=2.9->tensorflow<2.10,>=2.9.0->tensorflow-text==2.9.0) (1.8.1)\n",
            "Requirement already satisfied: werkzeug>=1.0.1 in /usr/local/lib/python3.10/dist-packages (from tensorboard<2.10,>=2.9->tensorflow<2.10,>=2.9.0->tensorflow-text==2.9.0) (3.0.3)\n",
            "Requirement already satisfied: cachetools<6.0,>=2.0.0 in /usr/local/lib/python3.10/dist-packages (from google-auth<3,>=1.6.3->tensorboard<2.10,>=2.9->tensorflow<2.10,>=2.9.0->tensorflow-text==2.9.0) (5.3.3)\n",
            "Requirement already satisfied: pyasn1-modules>=0.2.1 in /usr/local/lib/python3.10/dist-packages (from google-auth<3,>=1.6.3->tensorboard<2.10,>=2.9->tensorflow<2.10,>=2.9.0->tensorflow-text==2.9.0) (0.4.0)\n",
            "Requirement already satisfied: rsa<5,>=3.1.4 in /usr/local/lib/python3.10/dist-packages (from google-auth<3,>=1.6.3->tensorboard<2.10,>=2.9->tensorflow<2.10,>=2.9.0->tensorflow-text==2.9.0) (4.9)\n",
            "Requirement already satisfied: requests-oauthlib>=0.7.0 in /usr/local/lib/python3.10/dist-packages (from google-auth-oauthlib<0.5,>=0.4.1->tensorboard<2.10,>=2.9->tensorflow<2.10,>=2.9.0->tensorflow-text==2.9.0) (1.3.1)\n",
            "Requirement already satisfied: charset-normalizer<4,>=2 in /usr/local/lib/python3.10/dist-packages (from requests<3,>=2.21.0->tensorboard<2.10,>=2.9->tensorflow<2.10,>=2.9.0->tensorflow-text==2.9.0) (3.3.2)\n",
            "Requirement already satisfied: idna<4,>=2.5 in /usr/local/lib/python3.10/dist-packages (from requests<3,>=2.21.0->tensorboard<2.10,>=2.9->tensorflow<2.10,>=2.9.0->tensorflow-text==2.9.0) (3.7)\n",
            "Requirement already satisfied: urllib3<3,>=1.21.1 in /usr/local/lib/python3.10/dist-packages (from requests<3,>=2.21.0->tensorboard<2.10,>=2.9->tensorflow<2.10,>=2.9.0->tensorflow-text==2.9.0) (2.0.7)\n",
            "Requirement already satisfied: certifi>=2017.4.17 in /usr/local/lib/python3.10/dist-packages (from requests<3,>=2.21.0->tensorboard<2.10,>=2.9->tensorflow<2.10,>=2.9.0->tensorflow-text==2.9.0) (2024.2.2)\n",
            "Requirement already satisfied: MarkupSafe>=2.1.1 in /usr/local/lib/python3.10/dist-packages (from werkzeug>=1.0.1->tensorboard<2.10,>=2.9->tensorflow<2.10,>=2.9.0->tensorflow-text==2.9.0) (2.1.5)\n",
            "Requirement already satisfied: pyasn1<0.7.0,>=0.4.6 in /usr/local/lib/python3.10/dist-packages (from pyasn1-modules>=0.2.1->google-auth<3,>=1.6.3->tensorboard<2.10,>=2.9->tensorflow<2.10,>=2.9.0->tensorflow-text==2.9.0) (0.6.0)\n",
            "Requirement already satisfied: oauthlib>=3.0.0 in /usr/local/lib/python3.10/dist-packages (from requests-oauthlib>=0.7.0->google-auth-oauthlib<0.5,>=0.4.1->tensorboard<2.10,>=2.9->tensorflow<2.10,>=2.9.0->tensorflow-text==2.9.0) (3.2.2)\n",
            "Installing collected packages: tensorflow-text\n",
            "Successfully installed tensorflow-text-2.9.0\n"
          ]
        }
      ]
    },
    {
      "cell_type": "code",
      "execution_count": 3,
      "id": "642a5307",
      "metadata": {
        "id": "642a5307"
      },
      "outputs": [],
      "source": [
        "preprocess_url = 'https://tfhub.dev/tensorflow/bert_en_uncased_preprocess/3'\n",
        "encoder_url = 'https://tfhub.dev/tensorflow/bert_en_uncased_L-12_H-768_A-12/4'"
      ]
    },
    {
      "cell_type": "code",
      "source": [
        "import tensorflow as tf\n",
        "import tensorflow_hub as hub\n",
        "import tensorflow_text as text"
      ],
      "metadata": {
        "id": "1QSxBlrqDD9u"
      },
      "id": "1QSxBlrqDD9u",
      "execution_count": 5,
      "outputs": []
    },
    {
      "cell_type": "code",
      "execution_count": 6,
      "id": "6bc28f00",
      "metadata": {
        "id": "6bc28f00"
      },
      "outputs": [],
      "source": [
        "bert_preprocess_model = hub.KerasLayer(preprocess_url)"
      ]
    },
    {
      "cell_type": "code",
      "execution_count": 7,
      "id": "cec5fa12",
      "metadata": {
        "id": "cec5fa12",
        "colab": {
          "base_uri": "https://localhost:8080/"
        },
        "outputId": "6e885fa9-8922-4d98-b5a3-56d9c714bcbc"
      },
      "outputs": [
        {
          "output_type": "execute_result",
          "data": {
            "text/plain": [
              "dict_keys(['input_word_ids', 'input_mask', 'input_type_ids'])"
            ]
          },
          "metadata": {},
          "execution_count": 7
        }
      ],
      "source": [
        "text_test = ['nice movie indeed', 'I love python programming']\n",
        "text_preprocessed = bert_preprocess_model(text_test)\n",
        "text_preprocessed.keys()"
      ]
    },
    {
      "cell_type": "code",
      "execution_count": 8,
      "id": "2456ccf6",
      "metadata": {
        "id": "2456ccf6",
        "colab": {
          "base_uri": "https://localhost:8080/"
        },
        "outputId": "367fa5aa-b31e-46b7-cdfa-4946542ae85a"
      },
      "outputs": [
        {
          "output_type": "execute_result",
          "data": {
            "text/plain": [
              "dict_keys(['input_word_ids', 'input_mask', 'input_type_ids'])"
            ]
          },
          "metadata": {},
          "execution_count": 8
        }
      ],
      "source": [
        "text_preprocessed.keys()"
      ]
    },
    {
      "cell_type": "code",
      "execution_count": 9,
      "id": "8af3490e",
      "metadata": {
        "id": "8af3490e",
        "colab": {
          "base_uri": "https://localhost:8080/"
        },
        "outputId": "6d1bb09e-fac7-441d-de83-82a3b55c5672"
      },
      "outputs": [
        {
          "output_type": "execute_result",
          "data": {
            "text/plain": [
              "<tf.Tensor: shape=(2, 128), dtype=int32, numpy=\n",
              "array([[1, 1, 1, 1, 1, 0, 0, 0, 0, 0, 0, 0, 0, 0, 0, 0, 0, 0, 0, 0, 0, 0,\n",
              "        0, 0, 0, 0, 0, 0, 0, 0, 0, 0, 0, 0, 0, 0, 0, 0, 0, 0, 0, 0, 0, 0,\n",
              "        0, 0, 0, 0, 0, 0, 0, 0, 0, 0, 0, 0, 0, 0, 0, 0, 0, 0, 0, 0, 0, 0,\n",
              "        0, 0, 0, 0, 0, 0, 0, 0, 0, 0, 0, 0, 0, 0, 0, 0, 0, 0, 0, 0, 0, 0,\n",
              "        0, 0, 0, 0, 0, 0, 0, 0, 0, 0, 0, 0, 0, 0, 0, 0, 0, 0, 0, 0, 0, 0,\n",
              "        0, 0, 0, 0, 0, 0, 0, 0, 0, 0, 0, 0, 0, 0, 0, 0, 0, 0],\n",
              "       [1, 1, 1, 1, 1, 1, 0, 0, 0, 0, 0, 0, 0, 0, 0, 0, 0, 0, 0, 0, 0, 0,\n",
              "        0, 0, 0, 0, 0, 0, 0, 0, 0, 0, 0, 0, 0, 0, 0, 0, 0, 0, 0, 0, 0, 0,\n",
              "        0, 0, 0, 0, 0, 0, 0, 0, 0, 0, 0, 0, 0, 0, 0, 0, 0, 0, 0, 0, 0, 0,\n",
              "        0, 0, 0, 0, 0, 0, 0, 0, 0, 0, 0, 0, 0, 0, 0, 0, 0, 0, 0, 0, 0, 0,\n",
              "        0, 0, 0, 0, 0, 0, 0, 0, 0, 0, 0, 0, 0, 0, 0, 0, 0, 0, 0, 0, 0, 0,\n",
              "        0, 0, 0, 0, 0, 0, 0, 0, 0, 0, 0, 0, 0, 0, 0, 0, 0, 0]],\n",
              "      dtype=int32)>"
            ]
          },
          "metadata": {},
          "execution_count": 9
        }
      ],
      "source": [
        "text_preprocessed['input_mask']\n",
        "\n",
        "# CLS nice movie indeed SEP\n",
        "# 128 is max length of the sentence"
      ]
    },
    {
      "cell_type": "code",
      "execution_count": 10,
      "id": "64b9ac6b",
      "metadata": {
        "id": "64b9ac6b",
        "colab": {
          "base_uri": "https://localhost:8080/"
        },
        "outputId": "99cb193d-76bf-47bd-b641-d6b4189e48fa"
      },
      "outputs": [
        {
          "output_type": "execute_result",
          "data": {
            "text/plain": [
              "<tf.Tensor: shape=(2, 128), dtype=int32, numpy=\n",
              "array([[0, 0, 0, 0, 0, 0, 0, 0, 0, 0, 0, 0, 0, 0, 0, 0, 0, 0, 0, 0, 0, 0,\n",
              "        0, 0, 0, 0, 0, 0, 0, 0, 0, 0, 0, 0, 0, 0, 0, 0, 0, 0, 0, 0, 0, 0,\n",
              "        0, 0, 0, 0, 0, 0, 0, 0, 0, 0, 0, 0, 0, 0, 0, 0, 0, 0, 0, 0, 0, 0,\n",
              "        0, 0, 0, 0, 0, 0, 0, 0, 0, 0, 0, 0, 0, 0, 0, 0, 0, 0, 0, 0, 0, 0,\n",
              "        0, 0, 0, 0, 0, 0, 0, 0, 0, 0, 0, 0, 0, 0, 0, 0, 0, 0, 0, 0, 0, 0,\n",
              "        0, 0, 0, 0, 0, 0, 0, 0, 0, 0, 0, 0, 0, 0, 0, 0, 0, 0],\n",
              "       [0, 0, 0, 0, 0, 0, 0, 0, 0, 0, 0, 0, 0, 0, 0, 0, 0, 0, 0, 0, 0, 0,\n",
              "        0, 0, 0, 0, 0, 0, 0, 0, 0, 0, 0, 0, 0, 0, 0, 0, 0, 0, 0, 0, 0, 0,\n",
              "        0, 0, 0, 0, 0, 0, 0, 0, 0, 0, 0, 0, 0, 0, 0, 0, 0, 0, 0, 0, 0, 0,\n",
              "        0, 0, 0, 0, 0, 0, 0, 0, 0, 0, 0, 0, 0, 0, 0, 0, 0, 0, 0, 0, 0, 0,\n",
              "        0, 0, 0, 0, 0, 0, 0, 0, 0, 0, 0, 0, 0, 0, 0, 0, 0, 0, 0, 0, 0, 0,\n",
              "        0, 0, 0, 0, 0, 0, 0, 0, 0, 0, 0, 0, 0, 0, 0, 0, 0, 0]],\n",
              "      dtype=int32)>"
            ]
          },
          "metadata": {},
          "execution_count": 10
        }
      ],
      "source": [
        "text_preprocessed['input_type_ids']\n",
        "\n",
        "# Crucial for more than one sentences if given input"
      ]
    },
    {
      "cell_type": "code",
      "execution_count": 11,
      "id": "4a38f467",
      "metadata": {
        "id": "4a38f467",
        "colab": {
          "base_uri": "https://localhost:8080/"
        },
        "outputId": "c22e71f5-0677-461a-cf18-ad00319f099b"
      },
      "outputs": [
        {
          "output_type": "execute_result",
          "data": {
            "text/plain": [
              "<tf.Tensor: shape=(2, 128), dtype=int32, numpy=\n",
              "array([[  101,  3835,  3185,  5262,   102,     0,     0,     0,     0,\n",
              "            0,     0,     0,     0,     0,     0,     0,     0,     0,\n",
              "            0,     0,     0,     0,     0,     0,     0,     0,     0,\n",
              "            0,     0,     0,     0,     0,     0,     0,     0,     0,\n",
              "            0,     0,     0,     0,     0,     0,     0,     0,     0,\n",
              "            0,     0,     0,     0,     0,     0,     0,     0,     0,\n",
              "            0,     0,     0,     0,     0,     0,     0,     0,     0,\n",
              "            0,     0,     0,     0,     0,     0,     0,     0,     0,\n",
              "            0,     0,     0,     0,     0,     0,     0,     0,     0,\n",
              "            0,     0,     0,     0,     0,     0,     0,     0,     0,\n",
              "            0,     0,     0,     0,     0,     0,     0,     0,     0,\n",
              "            0,     0,     0,     0,     0,     0,     0,     0,     0,\n",
              "            0,     0,     0,     0,     0,     0,     0,     0,     0,\n",
              "            0,     0,     0,     0,     0,     0,     0,     0,     0,\n",
              "            0,     0],\n",
              "       [  101,  1045,  2293, 18750,  4730,   102,     0,     0,     0,\n",
              "            0,     0,     0,     0,     0,     0,     0,     0,     0,\n",
              "            0,     0,     0,     0,     0,     0,     0,     0,     0,\n",
              "            0,     0,     0,     0,     0,     0,     0,     0,     0,\n",
              "            0,     0,     0,     0,     0,     0,     0,     0,     0,\n",
              "            0,     0,     0,     0,     0,     0,     0,     0,     0,\n",
              "            0,     0,     0,     0,     0,     0,     0,     0,     0,\n",
              "            0,     0,     0,     0,     0,     0,     0,     0,     0,\n",
              "            0,     0,     0,     0,     0,     0,     0,     0,     0,\n",
              "            0,     0,     0,     0,     0,     0,     0,     0,     0,\n",
              "            0,     0,     0,     0,     0,     0,     0,     0,     0,\n",
              "            0,     0,     0,     0,     0,     0,     0,     0,     0,\n",
              "            0,     0,     0,     0,     0,     0,     0,     0,     0,\n",
              "            0,     0,     0,     0,     0,     0,     0,     0,     0,\n",
              "            0,     0]], dtype=int32)>"
            ]
          },
          "metadata": {},
          "execution_count": 11
        }
      ],
      "source": [
        "text_preprocessed['input_word_ids']\n",
        "\n",
        "# CLS nice movie indeed SEP"
      ]
    },
    {
      "cell_type": "code",
      "execution_count": 12,
      "id": "b1746f5f",
      "metadata": {
        "id": "b1746f5f",
        "colab": {
          "base_uri": "https://localhost:8080/"
        },
        "outputId": "f8f24ec3-721f-4512-e1ee-e68ec39884b5"
      },
      "outputs": [
        {
          "output_type": "execute_result",
          "data": {
            "text/plain": [
              "dict_keys(['sequence_output', 'default', 'encoder_outputs', 'pooled_output'])"
            ]
          },
          "metadata": {},
          "execution_count": 12
        }
      ],
      "source": [
        "bert_model =  hub.KerasLayer(encoder_url)\n",
        "\n",
        "bert_results = bert_model(text_preprocessed)\n",
        "bert_results.keys()"
      ]
    },
    {
      "cell_type": "code",
      "execution_count": 13,
      "id": "eaba140d",
      "metadata": {
        "id": "eaba140d",
        "colab": {
          "base_uri": "https://localhost:8080/"
        },
        "outputId": "886999aa-ccc7-4020-99fa-34fd51e176e3"
      },
      "outputs": [
        {
          "output_type": "execute_result",
          "data": {
            "text/plain": [
              "<tf.Tensor: shape=(2, 768), dtype=float32, numpy=\n",
              "array([[-0.7917741 , -0.21411917,  0.4976954 , ...,  0.24465218,\n",
              "        -0.47334483,  0.8175871 ],\n",
              "       [-0.9171231 , -0.4793517 , -0.7865698 , ..., -0.6175175 ,\n",
              "        -0.71026856,  0.92184293]], dtype=float32)>"
            ]
          },
          "metadata": {},
          "execution_count": 13
        }
      ],
      "source": [
        "bert_results['pooled_output']"
      ]
    },
    {
      "cell_type": "code",
      "execution_count": 14,
      "id": "b9b3ccd9",
      "metadata": {
        "id": "b9b3ccd9",
        "colab": {
          "base_uri": "https://localhost:8080/"
        },
        "outputId": "8c23e0a2-8f25-4cbc-f4ea-c6a8e273b519"
      },
      "outputs": [
        {
          "output_type": "execute_result",
          "data": {
            "text/plain": [
              "<tf.Tensor: shape=(2, 128, 768), dtype=float32, numpy=\n",
              "array([[[ 0.07292042,  0.0856783 ,  0.14476834, ..., -0.09677099,\n",
              "          0.08722139,  0.07711082],\n",
              "        [ 0.17839429, -0.19006051,  0.503494  , ..., -0.05869813,\n",
              "          0.32717112, -0.15578538],\n",
              "        [ 0.18701534, -0.43388787, -0.48875102, ..., -0.15502812,\n",
              "          0.0014514 , -0.24470966],\n",
              "        ...,\n",
              "        [ 0.12083082,  0.12884255,  0.46453565, ...,  0.07375513,\n",
              "          0.17441949,  0.16522074],\n",
              "        [ 0.07967876, -0.0119067 ,  0.50225437, ...,  0.13777758,\n",
              "          0.210022  ,  0.00624586],\n",
              "        [-0.07212726, -0.2830349 ,  0.5903336 , ...,  0.4755189 ,\n",
              "          0.16668434, -0.08920301]],\n",
              "\n",
              "       [[-0.07900558,  0.36335093, -0.21101578, ..., -0.17183772,\n",
              "          0.16299748,  0.6724267 ],\n",
              "        [ 0.27883533,  0.4371628 , -0.35764763, ..., -0.04463646,\n",
              "          0.38315225,  0.5887989 ],\n",
              "        [ 1.2037673 ,  1.072702  ,  0.48408782, ...,  0.24921028,\n",
              "          0.40730938,  0.40481862],\n",
              "        ...,\n",
              "        [ 0.0863005 ,  0.1935386 ,  0.4754003 , ...,  0.18880177,\n",
              "         -0.06474101,  0.31318587],\n",
              "        [ 0.15887076,  0.28572696,  0.37340772, ...,  0.09309122,\n",
              "         -0.04969573,  0.3876112 ],\n",
              "        [-0.08079872, -0.09572855,  0.2680979 , ...,  0.13979608,\n",
              "         -0.06315845,  0.2728833 ]]], dtype=float32)>"
            ]
          },
          "metadata": {},
          "execution_count": 14
        }
      ],
      "source": [
        "bert_results['sequence_output']\n",
        "\n",
        "# nice movie indeed 0 0 0 0 0 0 0 0  <----- 128"
      ]
    },
    {
      "cell_type": "code",
      "execution_count": 15,
      "id": "e6c994d2",
      "metadata": {
        "id": "e6c994d2",
        "colab": {
          "base_uri": "https://localhost:8080/"
        },
        "outputId": "4299712b-91f7-44d4-a54d-620c398f50a9"
      },
      "outputs": [
        {
          "output_type": "execute_result",
          "data": {
            "text/plain": [
              "12"
            ]
          },
          "metadata": {},
          "execution_count": 15
        }
      ],
      "source": [
        "len(bert_results['encoder_outputs'])\n",
        "\n",
        "# Output of each individual encoder, since we have 12 encoders in bert basic version"
      ]
    },
    {
      "cell_type": "code",
      "execution_count": 16,
      "id": "d198adeb",
      "metadata": {
        "id": "d198adeb",
        "colab": {
          "base_uri": "https://localhost:8080/"
        },
        "outputId": "99f6169a-4071-4a23-9c6e-baae4b73269c"
      },
      "outputs": [
        {
          "output_type": "execute_result",
          "data": {
            "text/plain": [
              "[<tf.Tensor: shape=(2, 128, 768), dtype=float32, numpy=\n",
              " array([[[ 0.12901422,  0.00644744, -0.03614965, ...,  0.0499962 ,\n",
              "           0.06149198, -0.02657532],\n",
              "         [ 1.1753383 ,  1.2140785 ,  1.156998  , ...,  0.1163438 ,\n",
              "          -0.35855362, -0.40490192],\n",
              "         [ 0.03859013,  0.53869987, -0.21089762, ...,  0.21858196,\n",
              "           0.7260165 , -1.1158605 ],\n",
              "         ...,\n",
              "         [-0.07587016, -0.25421906,  0.7075512 , ...,  0.50541985,\n",
              "          -0.18878691,  0.15028355],\n",
              "         [-0.16066596, -0.2808967 ,  0.5759707 , ...,  0.5275854 ,\n",
              "          -0.11141396,  0.02887552],\n",
              "         [-0.04428156, -0.20279594,  0.5909356 , ...,  0.81338346,\n",
              "          -0.39075798, -0.02601732]],\n",
              " \n",
              "        [[ 0.18903592,  0.02752544, -0.06513739, ..., -0.00620209,\n",
              "           0.15053897,  0.0316545 ],\n",
              "         [ 0.5916149 ,  0.75891405, -0.0724066 , ...,  0.6190398 ,\n",
              "           0.829289  ,  0.16161948],\n",
              "         [ 1.4460826 ,  0.44602674,  0.40990263, ...,  0.48255908,\n",
              "           0.62691134,  0.13463429],\n",
              "         ...,\n",
              "         [ 0.15147905, -0.21573861,  0.7032908 , ..., -0.12537225,\n",
              "          -0.13787276,  0.2772206 ],\n",
              "         [ 0.051438  , -0.24052684,  0.53569126, ..., -0.07915052,\n",
              "          -0.03307927,  0.17380935],\n",
              "         [ 0.20934698, -0.15645272,  0.6039544 , ...,  0.3290355 ,\n",
              "          -0.3582717 ,  0.08100396]]], dtype=float32)>,\n",
              " <tf.Tensor: shape=(2, 128, 768), dtype=float32, numpy=\n",
              " array([[[ 0.01418154, -0.22088249, -0.15028174, ...,  0.11415622,\n",
              "           0.12618104,  0.04843389],\n",
              "         [ 1.2033905 ,  1.3469863 ,  1.7064528 , ...,  0.30610552,\n",
              "          -0.50742567, -0.5514746 ],\n",
              "         [ 0.4216904 ,  0.8110249 , -0.25631565, ..., -0.07722463,\n",
              "           0.89372337, -1.4472057 ],\n",
              "         ...,\n",
              "         [-0.19047469, -0.2386083 ,  0.81412023, ...,  0.9749359 ,\n",
              "          -0.34774205, -0.08733568],\n",
              "         [-0.27150977, -0.3198497 ,  0.76593876, ...,  0.9676171 ,\n",
              "          -0.29511932, -0.1573179 ],\n",
              "         [-0.2130273 , -0.19229701,  0.73387754, ...,  1.1040437 ,\n",
              "          -0.45102856, -0.20683056]],\n",
              " \n",
              "        [[ 0.08973344, -0.18419704, -0.16645066, ...,  0.02761334,\n",
              "           0.11187725,  0.08041721],\n",
              "         [ 0.58311373,  0.59570277,  0.36019576, ...,  0.41270077,\n",
              "           0.26809204,  0.28400528],\n",
              "         [ 2.1166677 ,  0.5176943 ,  0.8637744 , ...,  0.7178732 ,\n",
              "           0.32405108,  0.09739994],\n",
              "         ...,\n",
              "         [ 0.2437289 , -0.05775549,  0.6842879 , ...,  0.434836  ,\n",
              "          -0.5766097 , -0.1113107 ],\n",
              "         [ 0.16803874, -0.03091795,  0.5863846 , ...,  0.49625793,\n",
              "          -0.5056799 , -0.2078216 ],\n",
              "         [ 0.24831747,  0.00315481,  0.5159252 , ...,  0.8050241 ,\n",
              "          -0.6989965 , -0.24186455]]], dtype=float32)>,\n",
              " <tf.Tensor: shape=(2, 128, 768), dtype=float32, numpy=\n",
              " array([[[ 0.02275388, -0.27980247,  0.02345736, ...,  0.2786701 ,\n",
              "           0.11714821,  0.18175076],\n",
              "         [ 1.2574843 ,  0.87250805,  1.6266018 , ...,  0.45210892,\n",
              "          -0.8090258 , -0.54489833],\n",
              "         [ 0.7521982 ,  0.6357369 , -0.205661  , ..., -0.32381755,\n",
              "           0.75749505, -1.4587921 ],\n",
              "         ...,\n",
              "         [-0.1510745 , -0.21129024,  0.9689461 , ...,  1.1261963 ,\n",
              "          -0.03214043, -0.22340256],\n",
              "         [-0.281256  , -0.3114003 ,  0.84328926, ...,  1.1342674 ,\n",
              "          -0.08336597, -0.25161245],\n",
              "         [-0.24449098, -0.21537884,  0.9480983 , ...,  1.2419422 ,\n",
              "          -0.19873452, -0.3375254 ]],\n",
              " \n",
              "        [[ 0.10617074, -0.27990738, -0.017318  , ...,  0.20060447,\n",
              "           0.081484  ,  0.21859062],\n",
              "         [ 0.68925893,  0.31591535,  0.5558664 , ...,  0.6903949 ,\n",
              "          -0.07141566,  0.41407156],\n",
              "         [ 2.5758886 ,  0.62520945,  1.2503716 , ...,  0.43957737,\n",
              "          -0.18525612, -0.05004843],\n",
              "         ...,\n",
              "         [ 0.20464328, -0.01561968,  0.83431476, ...,  0.8014962 ,\n",
              "          -0.12853917, -0.3584204 ],\n",
              "         [-0.02875672,  0.0509788 ,  0.68159264, ...,  0.9003149 ,\n",
              "          -0.12434889, -0.42256308],\n",
              "         [ 0.13327686,  0.02257305,  0.7722171 , ...,  1.0211186 ,\n",
              "          -0.30834728, -0.456232  ]]], dtype=float32)>,\n",
              " <tf.Tensor: shape=(2, 128, 768), dtype=float32, numpy=\n",
              " array([[[ 0.11484876, -0.6444109 , -0.14245126, ...,  0.25474206,\n",
              "           0.00378413,  0.6110507 ],\n",
              "         [ 1.3035431 ,  0.7706048 ,  1.3184998 , ...,  0.35822475,\n",
              "          -0.6412163 , -0.3279539 ],\n",
              "         [ 1.1896741 ,  0.62794507, -0.6750161 , ..., -0.28870618,\n",
              "           0.47791883, -1.2806    ],\n",
              "         ...,\n",
              "         [-0.22614798, -0.6276287 ,  1.0227487 , ...,  0.8292317 ,\n",
              "          -0.40314695,  0.04389258],\n",
              "         [-0.39901447, -0.75619   ,  0.7489375 , ...,  0.7492259 ,\n",
              "          -0.45077705, -0.0036796 ],\n",
              "         [-0.37728843, -0.78310406,  0.9057247 , ...,  0.9736227 ,\n",
              "          -0.4828573 , -0.07389769]],\n",
              " \n",
              "        [[ 0.15151401, -0.7075228 , -0.27520397, ...,  0.44345894,\n",
              "          -0.209204  ,  0.4986014 ],\n",
              "         [ 0.8864795 , -0.24838154,  0.7353752 , ...,  0.7417942 ,\n",
              "          -0.13177213,  0.10158481],\n",
              "         [ 2.5865817 ,  0.618829  ,  0.5279885 , ...,  0.84873116,\n",
              "          -0.5915018 ,  0.0234986 ],\n",
              "         ...,\n",
              "         [-0.05526864, -0.43394655,  1.1783338 , ...,  0.91791713,\n",
              "          -0.45718166, -0.25014636],\n",
              "         [-0.29328632, -0.23091167,  0.99380153, ...,  1.0353789 ,\n",
              "          -0.42435735, -0.34947577],\n",
              "         [-0.15899104, -0.5009816 ,  0.98142105, ...,  1.137308  ,\n",
              "          -0.6188841 , -0.44457808]]], dtype=float32)>,\n",
              " <tf.Tensor: shape=(2, 128, 768), dtype=float32, numpy=\n",
              " array([[[-0.22174853, -0.42225313, -0.04924058, ..., -0.26284218,\n",
              "           0.06099964,  0.63794863],\n",
              "         [ 1.1627908 ,  0.6770534 ,  1.3072389 , ...,  0.227947  ,\n",
              "          -0.54329544, -0.2738331 ],\n",
              "         [ 1.5308236 ,  0.72225523, -0.4360867 , ...,  0.27435824,\n",
              "           0.24980211, -0.9875375 ],\n",
              "         ...,\n",
              "         [-0.17669794, -0.31260484,  1.0875322 , ...,  0.5924216 ,\n",
              "           0.01275342, -0.28171957],\n",
              "         [-0.3447379 , -0.4242997 ,  0.8798017 , ...,  0.54826105,\n",
              "          -0.08151929, -0.34001422],\n",
              "         [-0.48139992, -0.31324273,  1.1702346 , ...,  0.8730985 ,\n",
              "          -0.07970156, -0.4532543 ]],\n",
              " \n",
              "        [[-0.21608114, -0.89864206, -0.4499153 , ..., -0.08286229,\n",
              "          -0.17226888,  0.6619985 ],\n",
              "         [ 0.66614527, -0.5491691 ,  0.46460602, ...,  0.17649357,\n",
              "           0.22822526,  0.3496219 ],\n",
              "         [ 2.062963  ,  0.69919866,  0.35604498, ...,  0.5295334 ,\n",
              "          -0.34809262,  0.00831384],\n",
              "         ...,\n",
              "         [-0.11594045, -0.17149237,  0.8994405 , ...,  0.6299018 ,\n",
              "          -0.3399024 , -0.20049208],\n",
              "         [-0.13007514, -0.02739035,  0.7079981 , ...,  0.805946  ,\n",
              "          -0.30724156, -0.19956353],\n",
              "         [-0.26314867, -0.26137075,  0.6338562 , ...,  0.81501794,\n",
              "          -0.45400375, -0.35120642]]], dtype=float32)>,\n",
              " <tf.Tensor: shape=(2, 128, 768), dtype=float32, numpy=\n",
              " array([[[-0.03392697, -0.39431462,  0.04223727, ..., -0.07905626,\n",
              "           0.01993896,  0.7692067 ],\n",
              "         [ 1.4294372 , -0.08699043,  1.5299486 , ...,  0.22512127,\n",
              "          -1.0060078 , -0.23702306],\n",
              "         [ 1.5031748 ,  0.6725798 , -0.5259018 , ...,  0.10906903,\n",
              "           0.27042374, -1.2567501 ],\n",
              "         ...,\n",
              "         [-0.30033568, -0.02261857,  1.3187408 , ...,  0.6928879 ,\n",
              "          -0.09798422, -0.17419727],\n",
              "         [-0.4375414 , -0.2114917 ,  1.1094568 , ...,  0.5006599 ,\n",
              "          -0.17692383, -0.18529083],\n",
              "         [-0.65920615, -0.1960793 ,  1.3134067 , ...,  0.73200756,\n",
              "          -0.19967367, -0.3246912 ]],\n",
              " \n",
              "        [[-0.27334625, -0.95268476, -0.78696567, ..., -0.12205328,\n",
              "          -0.08783798,  0.7581163 ],\n",
              "         [ 0.46757036, -0.16237547, -0.01155849, ...,  0.18781218,\n",
              "           0.6216475 ,  0.03009905],\n",
              "         [ 1.7947402 ,  0.9051079 ,  0.08580933, ...,  0.7709355 ,\n",
              "          -0.6682785 , -0.06755491],\n",
              "         ...,\n",
              "         [-0.18337497, -0.15806541,  1.1826952 , ...,  0.8304757 ,\n",
              "          -0.39406475, -0.2304772 ],\n",
              "         [-0.22270176,  0.00976041,  0.9340847 , ...,  1.1286675 ,\n",
              "          -0.3488438 , -0.19491516],\n",
              "         [-0.30386153, -0.29683098,  0.82471627, ...,  1.0090811 ,\n",
              "          -0.464077  , -0.31465587]]], dtype=float32)>,\n",
              " <tf.Tensor: shape=(2, 128, 768), dtype=float32, numpy=\n",
              " array([[[-0.2380344 , -0.6655404 ,  0.29917186, ...,  0.03415121,\n",
              "           0.29362842,  0.96536297],\n",
              "         [ 1.5040773 ,  0.00695006,  1.4314134 , ...,  0.24628739,\n",
              "          -0.5521961 , -0.32215545],\n",
              "         [ 1.3629036 ,  0.47741774, -0.61529875, ...,  0.08586894,\n",
              "           0.4392248 , -1.5594153 ],\n",
              "         ...,\n",
              "         [-0.16863984,  0.00209754,  1.3201766 , ...,  0.9428033 ,\n",
              "          -0.04737299,  0.21490383],\n",
              "         [-0.26666352, -0.2488119 ,  1.2213258 , ...,  0.6352795 ,\n",
              "          -0.04442438,  0.04466289],\n",
              "         [-0.53366274, -0.35796106,  1.3447862 , ...,  0.60384387,\n",
              "          -0.084272  , -0.15711933]],\n",
              " \n",
              "        [[-0.05967415, -0.8448218 , -0.8939019 , ..., -0.10863915,\n",
              "           0.40932402,  0.794086  ],\n",
              "         [ 0.54405177, -0.31962973, -0.45491558, ...,  0.480686  ,\n",
              "           0.7786257 ,  0.22774279],\n",
              "         [ 1.4479871 ,  1.123062  ,  0.09567963, ...,  1.3554296 ,\n",
              "           0.06143555, -0.00836897],\n",
              "         ...,\n",
              "         [ 0.2565226 , -0.14106527,  1.1854345 , ...,  0.9568372 ,\n",
              "          -0.21603985, -0.06946366],\n",
              "         [ 0.25819105,  0.07949284,  0.9851644 , ...,  1.0518221 ,\n",
              "          -0.07890996, -0.12841587],\n",
              "         [-0.05268902, -0.33431318,  0.96373373, ...,  0.8960697 ,\n",
              "          -0.1008247 , -0.28129593]]], dtype=float32)>,\n",
              " <tf.Tensor: shape=(2, 128, 768), dtype=float32, numpy=\n",
              " array([[[-7.0826843e-02, -2.5689867e-01, -3.5963085e-02, ...,\n",
              "          -3.5881335e-01,  1.3524805e-01,  1.0136111e+00],\n",
              "         [ 9.7472095e-01, -1.9712941e-01,  1.4318080e+00, ...,\n",
              "          -1.4052108e-01, -5.0431982e-02, -2.7142372e-02],\n",
              "         [ 1.1273407e+00,  2.7122757e-01, -2.8622892e-01, ...,\n",
              "           9.3385048e-02,  2.9908282e-01, -1.3764439e+00],\n",
              "         ...,\n",
              "         [-9.5786504e-02,  2.9180861e-01,  1.5879155e+00, ...,\n",
              "           8.5004216e-01, -5.1284455e-02,  2.0340037e-01],\n",
              "         [-2.2268780e-01, -8.3895616e-02,  1.7256012e+00, ...,\n",
              "           6.1222184e-01,  1.0976647e-01,  7.0047267e-02],\n",
              "         [-5.7830131e-01, -3.5915694e-01,  1.6035949e+00, ...,\n",
              "           3.4189719e-01,  5.2880540e-02, -1.5400845e-01]],\n",
              " \n",
              "        [[ 6.1017651e-02, -3.5161680e-01, -8.4891433e-01, ...,\n",
              "          -4.8554957e-01,  4.2703101e-01,  6.3828981e-01],\n",
              "         [ 6.6376585e-01,  1.8233433e-04, -7.9078865e-01, ...,\n",
              "           3.0686972e-01,  7.5843686e-01,  7.3240113e-01],\n",
              "         [ 1.4494705e+00,  1.1265045e+00,  1.7709227e-01, ...,\n",
              "           2.3471576e-01,  3.4929526e-01,  4.3709794e-01],\n",
              "         ...,\n",
              "         [ 3.2339516e-01,  1.7575891e-01,  8.7672347e-01, ...,\n",
              "           9.8904115e-01, -2.7050850e-01, -3.0809394e-01],\n",
              "         [ 4.0404263e-01,  5.1365054e-01,  7.2748065e-01, ...,\n",
              "           9.4942123e-01, -1.0216097e-02, -3.4644371e-01],\n",
              "         [-9.1304071e-03, -8.7016068e-02,  7.3031765e-01, ...,\n",
              "           8.5439712e-01, -1.3661321e-01, -4.7493523e-01]]], dtype=float32)>,\n",
              " <tf.Tensor: shape=(2, 128, 768), dtype=float32, numpy=\n",
              " array([[[-0.09403483, -0.05987572, -0.01171708, ..., -0.22167607,\n",
              "          -0.07650095,  0.5765808 ],\n",
              "         [ 0.7748076 ,  0.15188225,  1.0920011 , ..., -0.19562443,\n",
              "           0.15173192, -0.01071417],\n",
              "         [ 0.85191387,  0.25842667, -0.7703557 , ...,  0.03356613,\n",
              "           0.34010446, -1.3918682 ],\n",
              "         ...,\n",
              "         [-0.19780238,  0.52819747,  0.9023546 , ...,  0.27919737,\n",
              "          -0.2876398 ,  0.7510924 ],\n",
              "         [-0.3506734 ,  0.09291932,  1.3383359 , ...,  0.22619665,\n",
              "          -0.03588916,  0.27343935],\n",
              "         [-0.90445185, -0.20991233,  1.1977322 , ...,  0.35118288,\n",
              "          -0.21743803,  0.01482403]],\n",
              " \n",
              "        [[-0.07011101, -0.02392574, -0.6192435 , ..., -0.1454201 ,\n",
              "           0.3404932 ,  0.41224706],\n",
              "         [ 0.5926167 ,  0.19015878, -0.37399605, ...,  0.3723964 ,\n",
              "           0.39152858,  0.42580408],\n",
              "         [ 1.1394783 ,  0.8439859 ,  0.3889398 , ...,  0.20898314,\n",
              "           0.25176334,  0.26400056],\n",
              "         ...,\n",
              "         [ 0.4330594 ,  0.42012212,  1.0965098 , ...,  1.1872365 ,\n",
              "          -0.16672158,  0.00856217],\n",
              "         [ 0.5754233 ,  0.86609536,  1.118468  , ...,  1.0475061 ,\n",
              "           0.04264283, -0.01540424],\n",
              "         [-0.05487969, -0.07306892,  0.90122044, ...,  0.80045295,\n",
              "          -0.16820736, -0.355074  ]]], dtype=float32)>,\n",
              " <tf.Tensor: shape=(2, 128, 768), dtype=float32, numpy=\n",
              " array([[[-0.22671382,  0.03110891,  0.32186085, ..., -0.28090256,\n",
              "          -0.7505081 ,  0.4455791 ],\n",
              "         [ 0.7712562 ,  0.11217953,  0.66033244, ..., -0.09223834,\n",
              "           0.34821126, -0.36905104],\n",
              "         [ 0.51224136, -0.19929014, -0.8477505 , ..., -0.2881213 ,\n",
              "           0.22383785, -1.2124603 ],\n",
              "         ...,\n",
              "         [ 0.1250081 ,  0.6663396 ,  0.985222  , ..., -0.08709408,\n",
              "          -0.58054507,  0.61272246],\n",
              "         [ 0.0140039 ,  0.10471187,  1.2684826 , ..., -0.01833121,\n",
              "          -0.35933122,  0.15463184],\n",
              "         [-0.8093845 , -0.36068055,  1.3501256 , ...,  0.58935887,\n",
              "          -0.5093248 , -0.09766769]],\n",
              " \n",
              "        [[-0.21534976, -0.23962311, -0.3093243 , ..., -0.25964996,\n",
              "           0.09695179,  0.4182662 ],\n",
              "         [ 0.5070068 , -0.0154492 , -0.1051959 , ...,  0.3867534 ,\n",
              "           0.22041109, -0.10293248],\n",
              "         [ 1.0366062 ,  0.91713125,  0.26164225, ...,  0.3318213 ,\n",
              "           0.45596996,  0.12697937],\n",
              "         ...,\n",
              "         [ 0.16190524,  0.7627018 ,  1.2737672 , ...,  0.57260025,\n",
              "          -0.0592956 ,  0.26224104],\n",
              "         [ 0.46124578,  1.1673886 ,  0.95947707, ...,  0.46033043,\n",
              "           0.1352133 ,  0.4513604 ],\n",
              "         [-0.24184035,  0.1735278 ,  0.8415638 , ...,  0.24766807,\n",
              "          -0.14810303,  0.06557377]]], dtype=float32)>,\n",
              " <tf.Tensor: shape=(2, 128, 768), dtype=float32, numpy=\n",
              " array([[[-2.19517052e-02,  2.13036284e-01,  3.11359107e-01, ...,\n",
              "          -2.39179567e-01, -2.78708845e-01,  2.04083964e-01],\n",
              "         [ 8.30985129e-01,  1.90781489e-01,  7.11346209e-01, ...,\n",
              "          -3.00244689e-01,  3.11524093e-01, -2.59340674e-01],\n",
              "         [ 3.73090029e-01, -4.22126234e-01, -6.66908979e-01, ...,\n",
              "          -4.52976584e-01,  3.20452034e-01, -2.99886435e-01],\n",
              "         ...,\n",
              "         [ 3.31665903e-01,  7.18358517e-01,  8.99611890e-01, ...,\n",
              "          -3.49145383e-01, -2.99869478e-01,  5.23887396e-01],\n",
              "         [ 2.38532901e-01,  2.04843670e-01,  1.13064301e+00, ...,\n",
              "          -1.51129931e-01, -1.37811407e-01,  7.69993812e-02],\n",
              "         [-3.84121656e-01, -3.81587118e-01,  1.33972752e+00, ...,\n",
              "           5.77553511e-01, -1.55401111e-01, -2.92944372e-01]],\n",
              " \n",
              "        [[ 1.43630594e-01,  1.69801071e-01,  4.51196358e-02, ...,\n",
              "          -6.21680282e-02, -1.57536138e-02,  2.87869900e-01],\n",
              "         [ 5.84760666e-01,  2.69932121e-01, -2.85206705e-01, ...,\n",
              "           3.38930875e-01,  1.17773265e-01,  3.69866118e-02],\n",
              "         [ 1.25257969e+00,  1.25564468e+00,  3.87544692e-01, ...,\n",
              "           1.72757328e-01,  4.96662259e-01,  6.13781989e-01],\n",
              "         ...,\n",
              "         [ 1.95486024e-01,  4.40819919e-01,  1.03893661e+00, ...,\n",
              "           1.45270750e-01, -2.77439356e-01,  1.90321773e-01],\n",
              "         [ 4.48166013e-01,  7.64478385e-01,  6.98005259e-01, ...,\n",
              "          -8.35736282e-04, -7.96448886e-02,  4.93358970e-01],\n",
              "         [-2.33980775e-01, -2.03336030e-01,  3.48247468e-01, ...,\n",
              "          -6.43423498e-02, -3.20876151e-01,  2.23341361e-02]]],\n",
              "       dtype=float32)>,\n",
              " <tf.Tensor: shape=(2, 128, 768), dtype=float32, numpy=\n",
              " array([[[ 0.07292042,  0.0856783 ,  0.14476834, ..., -0.09677099,\n",
              "           0.08722139,  0.07711082],\n",
              "         [ 0.17839429, -0.19006051,  0.503494  , ..., -0.05869813,\n",
              "           0.32717112, -0.15578538],\n",
              "         [ 0.18701534, -0.43388787, -0.48875102, ..., -0.15502812,\n",
              "           0.0014514 , -0.24470966],\n",
              "         ...,\n",
              "         [ 0.12083082,  0.12884255,  0.46453565, ...,  0.07375513,\n",
              "           0.17441949,  0.16522074],\n",
              "         [ 0.07967876, -0.0119067 ,  0.50225437, ...,  0.13777758,\n",
              "           0.210022  ,  0.00624586],\n",
              "         [-0.07212726, -0.2830349 ,  0.5903336 , ...,  0.4755189 ,\n",
              "           0.16668434, -0.08920301]],\n",
              " \n",
              "        [[-0.07900558,  0.36335093, -0.21101578, ..., -0.17183772,\n",
              "           0.16299748,  0.6724267 ],\n",
              "         [ 0.27883533,  0.4371628 , -0.35764763, ..., -0.04463646,\n",
              "           0.38315225,  0.5887989 ],\n",
              "         [ 1.2037673 ,  1.072702  ,  0.48408782, ...,  0.24921028,\n",
              "           0.40730938,  0.40481862],\n",
              "         ...,\n",
              "         [ 0.0863005 ,  0.1935386 ,  0.4754003 , ...,  0.18880177,\n",
              "          -0.06474101,  0.31318587],\n",
              "         [ 0.15887076,  0.28572696,  0.37340772, ...,  0.09309122,\n",
              "          -0.04969573,  0.3876112 ],\n",
              "         [-0.08079872, -0.09572855,  0.2680979 , ...,  0.13979608,\n",
              "          -0.06315845,  0.2728833 ]]], dtype=float32)>]"
            ]
          },
          "metadata": {},
          "execution_count": 16
        }
      ],
      "source": [
        "bert_results['encoder_outputs']"
      ]
    },
    {
      "cell_type": "code",
      "execution_count": 17,
      "id": "a56a73c3",
      "metadata": {
        "id": "a56a73c3",
        "colab": {
          "base_uri": "https://localhost:8080/"
        },
        "outputId": "91ae236f-ff02-4d31-97a0-0ba5267f4d73"
      },
      "outputs": [
        {
          "output_type": "execute_result",
          "data": {
            "text/plain": [
              "<tf.Tensor: shape=(2, 128, 768), dtype=bool, numpy=\n",
              "array([[[ True,  True,  True, ...,  True,  True,  True],\n",
              "        [ True,  True,  True, ...,  True,  True,  True],\n",
              "        [ True,  True,  True, ...,  True,  True,  True],\n",
              "        ...,\n",
              "        [ True,  True,  True, ...,  True,  True,  True],\n",
              "        [ True,  True,  True, ...,  True,  True,  True],\n",
              "        [ True,  True,  True, ...,  True,  True,  True]],\n",
              "\n",
              "       [[ True,  True,  True, ...,  True,  True,  True],\n",
              "        [ True,  True,  True, ...,  True,  True,  True],\n",
              "        [ True,  True,  True, ...,  True,  True,  True],\n",
              "        ...,\n",
              "        [ True,  True,  True, ...,  True,  True,  True],\n",
              "        [ True,  True,  True, ...,  True,  True,  True],\n",
              "        [ True,  True,  True, ...,  True,  True,  True]]])>"
            ]
          },
          "metadata": {},
          "execution_count": 17
        }
      ],
      "source": [
        "bert_results['encoder_outputs'][-1] == bert_results['sequence_output']"
      ]
    },
    {
      "cell_type": "code",
      "execution_count": 17,
      "id": "7897b39c",
      "metadata": {
        "id": "7897b39c"
      },
      "outputs": [],
      "source": []
    }
  ],
  "metadata": {
    "kernelspec": {
      "display_name": "Python 3",
      "name": "python3"
    },
    "language_info": {
      "codemirror_mode": {
        "name": "ipython",
        "version": 3
      },
      "file_extension": ".py",
      "mimetype": "text/x-python",
      "name": "python",
      "nbconvert_exporter": "python",
      "pygments_lexer": "ipython3",
      "version": "3.11.5"
    },
    "colab": {
      "provenance": [],
      "gpuType": "T4"
    },
    "accelerator": "GPU"
  },
  "nbformat": 4,
  "nbformat_minor": 5
}