{
 "cells": [
  {
   "cell_type": "code",
   "execution_count": 1,
   "id": "21cdec5a",
   "metadata": {},
   "outputs": [],
   "source": [
    "import re"
   ]
  },
  {
   "cell_type": "code",
   "execution_count": null,
   "id": "db6bda0f",
   "metadata": {},
   "outputs": [],
   "source": [
    "# regex101.com "
   ]
  },
  {
   "cell_type": "code",
   "execution_count": 16,
   "id": "3976a3f5",
   "metadata": {},
   "outputs": [],
   "source": [
    "text = '''\n",
    "Note 1 - Summary of Significant Accounting Policies\n",
    "Unaudited Interim Financial Statements\n",
    "The consolidated financial statements of Tesla, Inc. (“Tesla”, the “Company”, “we”, “us” or “our”), including the consolidated balance sheet as of\n",
    "June 30, 2023, the consolidated statements of operations, the consolidated statements of comprehensive income, the consolidated statements of\n",
    "redeemable noncontrolling interests and equity for the three and six months ended June 30, 2023 and 2022, and the consolidated statements of cash\n",
    "flows for the six months ended June 30, 2023 and 2022, as well as other information disclosed in the accompanying notes, are unaudited. The\n",
    "consolidated balance sheet as of December 31, 2022 was derived from the audited consolidated financial statements as of that date. The interim\n",
    "consolidated financial statements and the accompanying notes should be read in conjunction with the annual consolidated financial statements and the\n",
    "accompanying notes contained in our Annual Report on Form 10-K for the year ended December 31, 2022.\n",
    "The interim consolidated financial statements and the accompanying notes have been prepared on the same basis as the annual consolidated\n",
    "financial statements and, in the opinion of management, reflect all adjustments, which include only normal recurring adjustments, necessary for a fair\n",
    "statement of the results of operations for the periods presented. The consolidated results of operations for any interim period are not necessarily\n",
    "indicative of the results to be expected for the full year or for any other future years or interim periods.\n",
    "Note 2 - Fair Value of Financial Instruments\n",
    "ASC 820, Fair Value Measurements (“ASC 820”) states that fair value is an exit price, representing the amount that would be received to sell an\n",
    "asset or paid to transfer a liability in an orderly transaction between market participants. As such, fair value is a market-based measurement that should\n",
    "be determined based on assumptions that market participants would use in pricing an asset or a liability. The three-tiered fair value hierarchy, which\n",
    "prioritizes which inputs should be used in measuring fair value, is comprised of: (Level I) observable inputs such as quoted prices in active markets;\n",
    "(Level II) inputs other than quoted prices in active markets that are observable either directly or indirectly and (Level III) unobservable inputs for which\n",
    "there is little or no market data. The fair value hierarchy requires the use of observable market data when available in determining fair value. Our\n",
    "assets and liabilities that were measured at fair value on a recurring basis were as follows (in millions):\n",
    "'''\n",
    "\n",
    "# pattern = '\\(\\d{3}\\)-\\d{3}-\\d{4}|\\d{10}'\n",
    "pattern = 'Note \\d - ([^\\n]*)'\n",
    "matches = re.findall(pattern, text)"
   ]
  },
  {
   "cell_type": "code",
   "execution_count": 17,
   "id": "7c0aeaac",
   "metadata": {},
   "outputs": [
    {
     "data": {
      "text/plain": [
       "['Summary of Significant Accounting Policies',\n",
       " 'Fair Value of Financial Instruments']"
      ]
     },
     "execution_count": 17,
     "metadata": {},
     "output_type": "execute_result"
    }
   ],
   "source": [
    "matches"
   ]
  },
  {
   "cell_type": "code",
   "execution_count": 38,
   "id": "65bee45b",
   "metadata": {},
   "outputs": [],
   "source": [
    "text = '''\n",
    "Note 1 - Summary of Significant Accounting Policies\n",
    "Unaudited Interim Financial Statements\n",
    "The consolidated financial statements of Tesla, Inc. (“Tesla”, the “Company”, “we”, “us” or “our”), including the consolidated balance sheet as of\n",
    "June 30, 2023, the consolidated statements of operations, the consolidated statements of comprehensive income, the consolidated statements of redeemable nonc FY2021 Q1 was $5.34 billion the are you fine the why  this and that FY2021 Q4 why this you doing tell me\n",
    " fy2022 Q3 was $4.34 billion'''\n",
    "\n",
    "pattern = 'FY(\\d{4} Q[1-4])'\n",
    "matches = re.findall(pattern, text, flags = re.IGNORECASE)"
   ]
  },
  {
   "cell_type": "code",
   "execution_count": 39,
   "id": "9d1d4cf4",
   "metadata": {},
   "outputs": [
    {
     "data": {
      "text/plain": [
       "['2021 Q1', '2021 Q4', '2022 Q3']"
      ]
     },
     "execution_count": 39,
     "metadata": {},
     "output_type": "execute_result"
    }
   ],
   "source": [
    "matches"
   ]
  },
  {
   "cell_type": "code",
   "execution_count": 40,
   "id": "3b744656",
   "metadata": {},
   "outputs": [],
   "source": [
    "pattern = '\\$[\\d\\.]+'\n",
    "matches = re.findall(pattern, text)"
   ]
  },
  {
   "cell_type": "code",
   "execution_count": 41,
   "id": "8ffc78bd",
   "metadata": {},
   "outputs": [
    {
     "data": {
      "text/plain": [
       "['$5.34', '$4.34']"
      ]
     },
     "execution_count": 41,
     "metadata": {},
     "output_type": "execute_result"
    }
   ],
   "source": [
    "matches"
   ]
  },
  {
   "cell_type": "code",
   "execution_count": 44,
   "id": "adf417f0",
   "metadata": {},
   "outputs": [],
   "source": [
    "pattern = 'FY(\\d{4} Q[1-4])[^\\$]+(\\$[\\d\\.]+)'\n",
    "matches = re.findall(pattern, text)"
   ]
  },
  {
   "cell_type": "code",
   "execution_count": 45,
   "id": "8527e176",
   "metadata": {},
   "outputs": [
    {
     "data": {
      "text/plain": [
       "[('2021 Q1', '$5.34'), ('2021 Q4', '$4.34')]"
      ]
     },
     "execution_count": 45,
     "metadata": {},
     "output_type": "execute_result"
    }
   ],
   "source": [
    "matches"
   ]
  },
  {
   "cell_type": "code",
   "execution_count": null,
   "id": "0b58b288",
   "metadata": {},
   "outputs": [],
   "source": []
  }
 ],
 "metadata": {
  "kernelspec": {
   "display_name": "Python 3 (ipykernel)",
   "language": "python",
   "name": "python3"
  },
  "language_info": {
   "codemirror_mode": {
    "name": "ipython",
    "version": 3
   },
   "file_extension": ".py",
   "mimetype": "text/x-python",
   "name": "python",
   "nbconvert_exporter": "python",
   "pygments_lexer": "ipython3",
   "version": "3.10.5"
  }
 },
 "nbformat": 4,
 "nbformat_minor": 5
}
