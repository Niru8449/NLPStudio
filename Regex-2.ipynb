{
 "cells": [
  {
   "cell_type": "code",
   "execution_count": 2,
   "id": "1e7e048b",
   "metadata": {},
   "outputs": [],
   "source": [
    "import re"
   ]
  },
  {
   "cell_type": "code",
   "execution_count": 3,
   "id": "d19144c6",
   "metadata": {},
   "outputs": [
    {
     "data": {
      "text/plain": [
       "['abc@xyz.com', 'ilsufdjbnuibfv@sdf.cesf']"
      ]
     },
     "execution_count": 3,
     "metadata": {},
     "output_type": "execute_result"
    }
   ],
   "source": [
    "chat = 'cskljdvhiushfv skjdvhkjsvh skjfvhkjsfh abc@xyz.com sjfbukhbf skdjnkshubv ilsufdjbnuibfv@sdf.cesf'\n",
    "pattern = '\\w+\\@\\w+\\.\\w+'\n",
    "\n",
    "matches = re.findall(pattern, chat)\n",
    "matches"
   ]
  },
  {
   "cell_type": "code",
   "execution_count": 7,
   "id": "21619a2d",
   "metadata": {},
   "outputs": [
    {
     "data": {
      "text/plain": [
       "['123456789', '124578932', '165321468']"
      ]
     },
     "execution_count": 7,
     "metadata": {},
     "output_type": "execute_result"
    }
   ],
   "source": [
    "chat2 = '''\n",
    "I am having issue with my order #123456789. \n",
    "My order 124578932 is faulty. I want to return the order whose order number is 165321468\n",
    "'''\n",
    "# pattern = 'order[^1-9]*([1-9]*)'\n",
    "pattern = 'order[^\\d]*([1-9]*)'\n",
    "\n",
    "matches = re.findall(pattern, chat2)\n",
    "matches"
   ]
  },
  {
   "cell_type": "code",
   "execution_count": 26,
   "id": "4c885bbe",
   "metadata": {},
   "outputs": [],
   "source": [
    "text = '''\n",
    "Born\tElon Reeve Musk\n",
    "June 28, 1971 (age 52)\n",
    "Pretoria, Transvaal, South Africa\n",
    "Education\tUniversity of Pennsylvania (BA, BS)\n",
    "Title\t\n",
    "Founder, CEO, and chief engineer of SpaceX\n",
    "CEO and product architect of Tesla, Inc.\n",
    "Owner and CTO of Twitter\n",
    "President of the Musk Foundation\n",
    "Founder of the Boring Company, X Corp., and xAI\n",
    "Co-founder of Neuralink, OpenAI, Zip2, and X.com (part of PayPal)\n",
    "Spouses\t\n",
    "Justine Wilson\n",
    "​\n",
    "​(m. 2000; div. 2008)​\n",
    "Talulah Riley\n",
    "​\n",
    "​(m. 2010; div. 2012)​\n",
    "​\n",
    "​(m. 2013; div. 2016)​\n",
    "Partner\tGrimes (2018–2021)[1]\n",
    "Children\t10[2]\n",
    "Parents\t\n",
    "Errol Musk\n",
    "Maye Musk\n",
    "Family\tMusk family\n",
    "'''"
   ]
  },
  {
   "cell_type": "code",
   "execution_count": 27,
   "id": "3aa18c19",
   "metadata": {},
   "outputs": [
    {
     "data": {
      "text/plain": [
       "['Elon Reeve Musk']"
      ]
     },
     "execution_count": 27,
     "metadata": {},
     "output_type": "execute_result"
    }
   ],
   "source": [
    "# Name\n",
    "pattern = 'Born\t([^\\n]*)'\n",
    "matches = re.findall(pattern, text)\n",
    "matches"
   ]
  },
  {
   "cell_type": "code",
   "execution_count": 33,
   "id": "2d7e3360",
   "metadata": {},
   "outputs": [
    {
     "data": {
      "text/plain": [
       "['June 28, 1971']"
      ]
     },
     "execution_count": 33,
     "metadata": {},
     "output_type": "execute_result"
    }
   ],
   "source": [
    "# Birth date\n",
    "# pattern = 'Born.*\\n([a-zA-Z1-9, ]*)'\n",
    "pattern = 'Born.*\\n(.*) \\(age'\n",
    "matches = re.findall(pattern, text)\n",
    "matches"
   ]
  },
  {
   "cell_type": "code",
   "execution_count": 36,
   "id": "42c45945",
   "metadata": {},
   "outputs": [
    {
     "data": {
      "text/plain": [
       "'Pretoria, Transvaal, South Africa'"
      ]
     },
     "execution_count": 36,
     "metadata": {},
     "output_type": "execute_result"
    }
   ],
   "source": [
    "pattern = '\\(age.*\\n(.*)'\n",
    "matches = re.findall(pattern, text)\n",
    "matches[0]"
   ]
  },
  {
   "cell_type": "code",
   "execution_count": 37,
   "id": "bd2b5543",
   "metadata": {},
   "outputs": [],
   "source": [
    "def get_pattern_matches(pattern, text) :\n",
    "    matches = re.findall(pattern, text)\n",
    "    if matches :\n",
    "        return matches[0]"
   ]
  },
  {
   "cell_type": "code",
   "execution_count": 38,
   "id": "ed90ac2a",
   "metadata": {},
   "outputs": [
    {
     "data": {
      "text/plain": [
       "'Pretoria, Transvaal, South Africa'"
      ]
     },
     "execution_count": 38,
     "metadata": {},
     "output_type": "execute_result"
    }
   ],
   "source": [
    "get_pattern_matches(pattern, text)"
   ]
  },
  {
   "cell_type": "code",
   "execution_count": 43,
   "id": "8a3ecf53",
   "metadata": {},
   "outputs": [],
   "source": [
    "def get_personal_info (text):\n",
    "    age = get_pattern_matches('\\(age (\\d*)', text)\n",
    "    birth_place = get_pattern_matches('\\(age.*\\n(.*)', text)\n",
    "    birth_date = get_pattern_matches('Born.*\\n(.*) \\(age', text)\n",
    "    name = get_pattern_matches('Born\t([^\\n]*)', text)\n",
    "    \n",
    "    return {\n",
    "        'age' : int(age),\n",
    "        'birth_place' : birth_place,\n",
    "        'birth_date' : birth_date,\n",
    "        'name' : name\n",
    "    }"
   ]
  },
  {
   "cell_type": "code",
   "execution_count": 44,
   "id": "5b4c2524",
   "metadata": {},
   "outputs": [
    {
     "data": {
      "text/plain": [
       "{'age': 52,\n",
       " 'birth_place': 'Pretoria, Transvaal, South Africa',\n",
       " 'birth_date': 'June 28, 1971',\n",
       " 'name': 'Elon Reeve Musk'}"
      ]
     },
     "execution_count": 44,
     "metadata": {},
     "output_type": "execute_result"
    }
   ],
   "source": [
    "get_personal_info(text)"
   ]
  },
  {
   "cell_type": "code",
   "execution_count": 45,
   "id": "2b27b0b6",
   "metadata": {},
   "outputs": [],
   "source": [
    "text2 = '''\n",
    "Born\tMukesh Dhirubhai Ambani\n",
    "19 April 1957 (age 66)\n",
    "Aden, Colony of Aden\n",
    "(present-day Yemen)[1][2]\n",
    "Nationality\tIndian\n",
    "Alma mater\t\n",
    "St. Xavier's College, Mumbai\n",
    "Institute of Chemical Technology (B.E.)\n",
    "Occupation(s)\tChairman and MD, Reliance Industries\n",
    "Spouse\tNita Ambani ​(m. 1985)​[3]\n",
    "Children\t3\n",
    "Parents\t\n",
    "Dhirubhai Ambani (father)\n",
    "Kokilaben Ambani (mother)\n",
    "Relatives\tAnil Ambani (brother)\n",
    "Tina Ambani (sister-in-law)\n",
    "'''"
   ]
  },
  {
   "cell_type": "code",
   "execution_count": 46,
   "id": "3885f715",
   "metadata": {},
   "outputs": [
    {
     "data": {
      "text/plain": [
       "{'age': 66,\n",
       " 'birth_place': 'Aden, Colony of Aden',\n",
       " 'birth_date': '19 April 1957',\n",
       " 'name': 'Mukesh Dhirubhai Ambani'}"
      ]
     },
     "execution_count": 46,
     "metadata": {},
     "output_type": "execute_result"
    }
   ],
   "source": [
    "get_personal_info(text2)"
   ]
  },
  {
   "cell_type": "code",
   "execution_count": null,
   "id": "915cd7a5",
   "metadata": {},
   "outputs": [],
   "source": []
  }
 ],
 "metadata": {
  "kernelspec": {
   "display_name": "Python 3 (ipykernel)",
   "language": "python",
   "name": "python3"
  },
  "language_info": {
   "codemirror_mode": {
    "name": "ipython",
    "version": 3
   },
   "file_extension": ".py",
   "mimetype": "text/x-python",
   "name": "python",
   "nbconvert_exporter": "python",
   "pygments_lexer": "ipython3",
   "version": "3.10.5"
  }
 },
 "nbformat": 4,
 "nbformat_minor": 5
}
